{
 "cells": [
  {
   "cell_type": "markdown",
   "metadata": {},
   "source": [
    "### References"
   ]
  },
  {
   "cell_type": "markdown",
   "metadata": {},
   "source": [
    "<img src=\"https://static.vecteezy.com/system/resources/previews/000/108/974/original/vector-fashion-girl.jpg\" width=\"700px\" />\n",
    "\n",
    "## Fashion-MNIST Classification\n",
    "\n",
    "> Can we develop a model that performs well on the Fashion-MNIST dataset?\n",
    "\n",
    "### Context\n",
    "Fashion-MNIST is a dataset from Zalando research, comprising of <code>28 x 28</code> grayscale images of a total fo <code>70000</code> fashion products from 10 categories. The intent of this dataset is to serve as a replacement for the MNIST dataset for testing and benchmarking machine learning and deep learning models (Xiao, Rasul and Vollgraf, 2017).\n",
    "\n",
    "The dataset is based on images from Zalando's assortment. Each original image of <code>762 x 1000</code> in JPEG format was converted to PNG, resized, and then converted to grayscale.\n",
    "\n",
    "### Objectives\n",
    "<ol>\n",
    "\t<li>To explore and understand the dataset</li>\n",
    "\t<li>Understand the effects of different data augmentation techniques on the performance of the model</li>\n",
    "\t<li>Develop and experiment with models in order to rival state-of-the-art (SOTA) benchmark scores</li>\n",
    "</ol>\n",
    "\n",
    "## Importing libraries\n",
    "We import the necessary libraries for the notebook to run below."
   ]
  },
  {
   "cell_type": "code",
   "execution_count": 511,
   "metadata": {},
   "outputs": [],
   "source": [
    "import math\n",
    "from MulticoreTSNE import MulticoreTSNE as TSNE\n",
    "import pandas as pd\n",
    "import numpy as np\n",
    "import cv2\n",
    "import matplotlib.pyplot as plt\n",
    "import copy\n",
    "import random\n",
    "from sklearn.model_selection import train_test_split\n",
    "from sklearn.preprocessing import StandardScaler, MinMaxScaler, RobustScaler\n",
    "import seaborn as sns\n",
    "sns.set('notebook')\n",
    "from PIL import Image\n",
    "\n",
    "import torch\n",
    "from torch import nn, optim\n",
    "from torchvision import transforms\n",
    "from torch.utils.data import DataLoader, Dataset\n",
    "from torchvision.transforms import InterpolationMode\n",
    "import os"
   ]
  },
  {
   "cell_type": "markdown",
   "metadata": {},
   "source": [
    "We see the seed such that the notebook results in reproducible results when run. \n",
    "\n",
    "We also set the device to CUDA to enable torch to use our GPU."
   ]
  },
  {
   "cell_type": "code",
   "execution_count": 512,
   "metadata": {},
   "outputs": [
    {
     "name": "stdout",
     "output_type": "stream",
     "text": [
      "Device available now: cuda\n"
     ]
    }
   ],
   "source": [
    "def set_seed(seed = 1234):\n",
    "    '''Sets the seed of the entire notebook so results are the same every time we run.\n",
    "    This is for REPRODUCIBILITY.'''\n",
    "    np.random.seed(seed)\n",
    "    random.seed(seed)\n",
    "    torch.manual_seed(seed)\n",
    "    torch.cuda.manual_seed(seed)\n",
    "    # When running on the CuDNN backend, two further options must be set\n",
    "    torch.backends.cudnn.deterministic = True\n",
    "    # Set a fixed value for the hash seed\n",
    "    os.environ['PYTHONHASHSEED'] = str(seed)\n",
    "    \n",
    "set_seed()\n",
    "device = torch.device('cuda' if torch.cuda.is_available() else 'cpu')\n",
    "print('Device available now:', device)\n",
    "if device != torch.device('cuda'):\n",
    "    print('using cpu, exiting')\n",
    "    assert False"
   ]
  },
  {
   "cell_type": "markdown",
   "metadata": {},
   "source": [
    "## Utility Functions\n",
    "Below we define some utility functions that will ease and help us with our analysis."
   ]
  },
  {
   "cell_type": "code",
   "execution_count": 513,
   "metadata": {},
   "outputs": [],
   "source": [
    "def loc_data(data, loc):\n",
    "\tdatacopy = copy.deepcopy(data)\n",
    "\tarr = np.array(datacopy.loc[loc].drop('label'))\n",
    "\tlabel = datacopy.loc[loc]['label']\n",
    "\troot = int(len(arr) ** 0.5)\n",
    "\tarr.resize((root, root))\n",
    "\treturn label, arr\n",
    "\n",
    "def imshow(arr: list, label: list = None, grayscale=True, figsize=None):\n",
    "\tif label == None:\n",
    "\t\tlabel = [''] * len(arr)\n",
    "\n",
    "\theight = int(len(arr) ** 0.5)\n",
    "\twidth = math.ceil(len(arr) / height)\n",
    "\n",
    "\tif figsize == None:\n",
    "\t\tfig = plt.figure()\n",
    "\telse:\n",
    "\t\tfig = plt.figure(figsize=figsize)\n",
    "\tfor i in range(height):\n",
    "\t\tfor j in range(width):\n",
    "\t\t\tax = fig.add_subplot(height, width, i * height + j + 1)\n",
    "\t\t\tax.grid(False)\n",
    "\t\t\tax.set_xticks([])\n",
    "\t\t\tax.set_yticks([])\n",
    "\t\t\tax.imshow(arr[i * height + j], cmap='gray' if grayscale else '')\n",
    "\t\t\tax.set_title(label[i * height + j])\n",
    "\n",
    "def df_to_tensor(df, shape = (28, 28)):\n",
    "\treturn torch.tensor(df.values.reshape((-1, *shape)), dtype=torch.float32)\n",
    "\n",
    "def preprocess(df):\n",
    "\treturn df.applymap(lambda x: x / 255)\n",
    "\n",
    "def mse(t1, t2, shape=(28, 28)):\n",
    "\tloss = nn.MSELoss(reduction='none')\n",
    "\tloss_result = torch.sum(loss(t1, t2), dim=2)\n",
    "\tloss_result = torch.sum(loss_result, dim=2)\n",
    "\tloss_result = loss_result / np.prod([*shape])\n",
    "\treturn loss_result"
   ]
  },
  {
   "cell_type": "markdown",
   "metadata": {},
   "source": [
    "## Dataset\n",
    "Let's take a look at the dataset. This dataset was retrieved from the original Fashion MNIST dataset found at <a href=\"https://arxiv.org/pdf/1708.07747v2.pdf\">Paper Link</a>. \n",
    "\n",
    "<table>\n",
    "\t<tr>\n",
    "\t\t<th>\n",
    "\t\t\tColumn Name\n",
    "\t\t</th>\n",
    "\t\t<th>\n",
    "\t\t\tDescription\n",
    "\t\t</th>\n",
    "\t</tr>\n",
    "\t<tr>\n",
    "\t\t<td>\n",
    "\t\t\tlabel\n",
    "\t\t</td>\n",
    "\t\t<td>\n",
    "\t\t\tThe true class of the image, represented as an integer ranging from 0 to 9<strong>*</strong>\n",
    "\t\t</td>\n",
    "\t</tr>\n",
    "\t<tr>\n",
    "\t\t<td>\n",
    "\t\t\tpixel 1<br/>...<br/>pixel 784\n",
    "\t\t</td>\n",
    "\t\t<td>\n",
    "\t\t\tPixels representing the image, each pixel ranging from 0 to 255\n",
    "\t\t</td>\n",
    "\t</tr>\n",
    "</table>\n",
    "\n",
    "<strong>\\*</strong>Each number represents a certain dress item\n",
    "```\n",
    "0 -> T-shirt/top\n",
    "1 -> Trouser\n",
    "2 -> Pullover\n",
    "3 -> Dress\n",
    "4 -> Coat\n",
    "5 -> Sandal\n",
    "6 -> Shirt\n",
    "7 -> Sneaker\n",
    "8 -> Bag\n",
    "9 -> Ankle boot\n",
    "```"
   ]
  },
  {
   "cell_type": "code",
   "execution_count": 514,
   "metadata": {},
   "outputs": [],
   "source": [
    "classes = ['T-shirt/top', 'Trouser', 'Pullover', 'Dress', 'Coat', 'Sandal', 'Shirt', 'Sneaker', 'Bag', 'Ankle boot']"
   ]
  },
  {
   "cell_type": "markdown",
   "metadata": {},
   "source": [
    "Let's take a look at the training dataset"
   ]
  },
  {
   "cell_type": "code",
   "execution_count": 515,
   "metadata": {},
   "outputs": [
    {
     "data": {
      "text/plain": [
       "(60000, 785)"
      ]
     },
     "execution_count": 515,
     "metadata": {},
     "output_type": "execute_result"
    }
   ],
   "source": [
    "train = pd.read_csv('data/fashion-mnist_train.csv')\n",
    "train.shape"
   ]
  },
  {
   "cell_type": "markdown",
   "metadata": {},
   "source": [
    "We observe that there are a total of <code>60000</code> rows and <code>785</code> columns, which is exactly what the original paper mentioned."
   ]
  },
  {
   "cell_type": "markdown",
   "metadata": {},
   "source": [
    "### Testing for missing values and invalid data\n",
    "Let's try to identify if there are any missing values"
   ]
  },
  {
   "cell_type": "code",
   "execution_count": 516,
   "metadata": {},
   "outputs": [
    {
     "data": {
      "text/plain": [
       "0"
      ]
     },
     "execution_count": 516,
     "metadata": {},
     "output_type": "execute_result"
    }
   ],
   "source": [
    "train.isnull().sum().sum()"
   ]
  },
  {
   "cell_type": "markdown",
   "metadata": {},
   "source": [
    "It appears <strong>no missing values are found</strong>. We will then check for any potential typos.\n",
    "<ol>\n",
    "\t<li>Firstly, the label should only consist of values from 0 - 9</li>\n",
    "\t<li>Secondly, the pixel values should only fall in between and inclusive of 0 - 255</li>\n",
    "</ol>"
   ]
  },
  {
   "cell_type": "code",
   "execution_count": 517,
   "metadata": {},
   "outputs": [
    {
     "name": "stdout",
     "output_type": "stream",
     "text": [
      "Minimum and Maximum values of labels: 0 and 9\n",
      "Number of values falling outside the range (0 - 255): 0\n"
     ]
    }
   ],
   "source": [
    "print('Minimum and Maximum values of labels:', train['label'].min(), \"and\", train['label'].max())\n",
    "print(\"Number of values falling outside the range (0 - 255):\",\n",
    "\ttrain.applymap(\n",
    "\t\tlambda x: x < 0 or x > 255 # True if out of range\n",
    "\t).sum().sum()\n",
    ")"
   ]
  },
  {
   "cell_type": "markdown",
   "metadata": {},
   "source": [
    "We observe that the dataset seems to be properly cleaned, thus can proceed knowing that <strong>no sign of invalid or missing data have been found.</strong>"
   ]
  },
  {
   "cell_type": "markdown",
   "metadata": {},
   "source": [
    "### Preprocessing\n",
    "We'll convert the data such that the range <code>0 - 255</code> becomes <code>0 - 1</code>"
   ]
  },
  {
   "cell_type": "code",
   "execution_count": 518,
   "metadata": {},
   "outputs": [],
   "source": [
    "train[train.columns[train.columns != 'label']] = preprocess(train[train.columns[train.columns != 'label']])"
   ]
  },
  {
   "cell_type": "markdown",
   "metadata": {},
   "source": [
    "## Exploratory Data Analysis\n",
    "In the EDA, we'll be attempting to complete the following set of objectives:\n",
    "\n",
    "### EDA Objectives\n",
    "<ol>\n",
    "\t<li>\n",
    "\t\tIs there any <strong>class imbalance</strong>\n",
    "\t</li>\n",
    "\t<li>\n",
    "\t\tWhat does the <strong>average image</strong> look like?\n",
    "\t</li>\n",
    "\t<li>\n",
    "\t\tAre there <strong>any outliers/anomalies</strong>?\n",
    "\t</li>\n",
    "</ol>\n",
    "Before we begin the EDA, we first need to remove a chunk of the training data to be used as validation dataset in order to avoid data leakage due to the decisions we make during EDA.\n",
    "\n",
    "### Validation Dataset\n",
    "Let's make our validation dataset. I decided that I will <strong>not be using cross validation during the modelling process</strong> due to the following reasons:\n",
    "<ul>\n",
    "\t<li>Time taken to train models, especially if utilising <strong>computationally expensive layers, activation functions or architecture</strong></li>\n",
    "\t<li>Additionally due to the sheer size of the dataset, not only does this add to increased training time but also means there is enough data such that cross validation is not necessary</li>\n",
    "</ul>\n",
    "\n",
    "We'll use a validation size of <code>10000</code> to mimic the size of the test dataset. We'll also stratify on the <code>label</code> to ensure that the model we generalizes best across all \n",
    "the classes."
   ]
  },
  {
   "cell_type": "code",
   "execution_count": 519,
   "metadata": {},
   "outputs": [
    {
     "name": "stdout",
     "output_type": "stream",
     "text": [
      "X_train shape: (50000, 784)\n",
      "X_val shape: (10000, 784)\n",
      "y_train shape: (50000,)\n",
      "y_val shape: (10000,)\n"
     ]
    }
   ],
   "source": [
    "X_train, X_val, y_train, y_val = train_test_split(train.drop('label', axis=1), train['label'], test_size = 10000 / len(train), stratify=train['label'])\n",
    "print(\"X_train shape:\", X_train.shape)\n",
    "print(\"X_val shape:\", X_val.shape)\n",
    "print(\"y_train shape:\", y_train.shape)\n",
    "print(\"y_val shape:\", y_val.shape)"
   ]
  },
  {
   "cell_type": "markdown",
   "metadata": {},
   "source": [
    "We see that the data have been split correctly and now we can begin our EDA!\n",
    "\n",
    "### Signs of class imbalance?\n",
    "We'll first identify the situation with class imbalance"
   ]
  },
  {
   "cell_type": "code",
   "execution_count": 520,
   "metadata": {},
   "outputs": [
    {
     "data": {
      "text/plain": [
       "<AxesSubplot: xlabel='label', ylabel='Count'>"
      ]
     },
     "execution_count": 520,
     "metadata": {},
     "output_type": "execute_result"
    },
    {
     "data": {
      "image/png": "[encoded data removed]",
      "text/plain": [
       "<Figure size 640x480 with 1 Axes>"
      ]
     },
     "metadata": {},
     "output_type": "display_data"
    }
   ],
   "source": [
    "sns.histplot(y_train)"
   ]
  },
  {
   "cell_type": "markdown",
   "metadata": {},
   "source": [
    "We observe the distribution of labels to be similar for all classes, reaching roughly a count of `5000`. Thus, there is no sign of class imbalance."
   ]
  },
  {
   "cell_type": "markdown",
   "metadata": {},
   "source": [
    "### What does the average image look like?\n",
    "Let's take a look at a random sample of image each first."
   ]
  },
  {
   "cell_type": "code",
   "execution_count": 521,
   "metadata": {},
   "outputs": [
    {
     "data": {
      "image/png": "[encoded data removed]",
      "text/plain": [
       "<Figure size 640x480 with 12 Axes>"
      ]
     },
     "metadata": {},
     "output_type": "display_data"
    }
   ],
   "source": [
    "images = []\n",
    "titles = []\n",
    "\n",
    "for i in range(10):\n",
    "\tidx = random.sample(list(y_train[y_train == i].index), 1)\n",
    "\timages.append(X_train.loc[idx].values.reshape((28, 28)))\n",
    "\ttitles.append(classes[y_train.loc[idx].values[0]])\n",
    "\n",
    "imshow(images, titles)"
   ]
  },
  {
   "cell_type": "markdown",
   "metadata": {},
   "source": [
    "We observe that sometimes, there appears to be certain images that are <strong>darker</strong> than others. This suggests that no form of normalization or scaling has been applied to the dataset. Let's take a look at the distribution of brightness to confirm this."
   ]
  },
  {
   "cell_type": "code",
   "execution_count": 522,
   "metadata": {},
   "outputs": [
    {
     "data": {
      "text/plain": [
       "Text(0.5, 0, 'Average Brightness per Image')"
      ]
     },
     "execution_count": 522,
     "metadata": {},
     "output_type": "execute_result"
    },
    {
     "data": {
      "image/png": "[encoded data removed]",
      "text/plain": [
       "<Figure size 640x480 with 1 Axes>"
      ]
     },
     "metadata": {},
     "output_type": "display_data"
    }
   ],
   "source": [
    "fig = plt.figure()\n",
    "ax = fig.subplots()\n",
    "\n",
    "# Note: we want to IGNORE the background of black, filtering by using x != 0\n",
    "sns.histplot(X_train.apply(lambda x: x[x != 0].mean(), axis=1).values, ax=ax) \n",
    "ax.set_xlabel('Average Brightness per Image')"
   ]
  },
  {
   "cell_type": "markdown",
   "metadata": {},
   "source": [
    "We observe:\n",
    "<ol>\n",
    "\t<li>\n",
    "\t\tMost of the images are on the brighter side as we see a large bulk of the distribution going towards the right side.\n",
    "\t</li>\n",
    "\t<li>\n",
    "\t\tThe distribution is skewed to the left, which suggests that we have a few images which are quite dark.\n",
    "\t</li>\n",
    "</ol>"
   ]
  },
  {
   "cell_type": "markdown",
   "metadata": {},
   "source": [
    "\n",
    "To find out what the average image looks like, we'll perform an average of the pixels across the different classes."
   ]
  },
  {
   "cell_type": "code",
   "execution_count": 523,
   "metadata": {},
   "outputs": [
    {
     "data": {
      "image/png": "[encoded data removed]",
      "text/plain": [
       "<Figure size 640x480 with 1 Axes>"
      ]
     },
     "metadata": {},
     "output_type": "display_data"
    }
   ],
   "source": [
    "imshow([\n",
    "\tX_train.mean().apply(lambda x: x).values.reshape(28, 28)\n",
    "], ['Average of all'])"
   ]
  },
  {
   "cell_type": "markdown",
   "metadata": {},
   "source": [
    "We observe:\n",
    "<ol>\n",
    "\t<li>The corners of the images are dark/black. This means there is likely no piece of clothing the spreads across the image.</li>\n",
    "\t<li>There is a bright circle-shape in the middle. This tells us most of these images are centered around in the middle</li>\n",
    "\t<li>An <strong>interesting note to point out</strong> is there seems to be some sort of darker 'bar' in the middle, separating the lightest parts of the image.</li>\n",
    "\t<li>\n",
    "\t\tThis may be due to the presence of trousers in the dataset, as from previous images, we can see trousers appears to be the only apparel with such a contrasting stripe in the middle.\n",
    "\t</li>\n",
    "</ol>"
   ]
  },
  {
   "cell_type": "markdown",
   "metadata": {},
   "source": [
    "#### Average image among the classes\n",
    "Next we'll split by the classes and find the average among them."
   ]
  },
  {
   "cell_type": "code",
   "execution_count": 524,
   "metadata": {},
   "outputs": [
    {
     "data": {
      "image/png": "[encoded data removed]",
      "text/plain": [
       "<Figure size 640x480 with 12 Axes>"
      ]
     },
     "metadata": {},
     "output_type": "display_data"
    }
   ],
   "source": [
    "images = []\n",
    "titles = []\n",
    "\n",
    "for i in range(10):\n",
    "\tidx = random.sample(list(y_train[y_train == i].index), 1)\n",
    "\timages.append(X_train[y_train == i].mean().apply(lambda x: x).values.reshape(28, 28))\n",
    "\ttitles.append(f'Avg {classes[y_train.loc[idx].values[0]]}')\n",
    "\n",
    "imshow(images, titles)"
   ]
  },
  {
   "cell_type": "markdown",
   "metadata": {},
   "source": [
    "We observe:\n",
    "<ol>\n",
    "\t<li>Each type of apparel generally has the same shape</li>\n",
    "\t<li>The most <strong>spread out/least consistent</strong> class seems to be sandals, as seen from the opaque and thicker edges, where as the other types have sharper and lighter borders.</li>\n",
    "</ol>\n"
   ]
  },
  {
   "cell_type": "markdown",
   "metadata": {},
   "source": [
    "### Are there any outliers/anomalies?\n",
    "\n",
    "We see from the average images, that the piece of clothing in the image are <strong>centered and upright</strong>, in that there are no sort of rotations going on.\n",
    "\n",
    "As such, let's see if there may be any outlier images, such as rotations or anomaly white spots on the image.\n",
    "\n",
    "We'll start by visualizing the dataset and seeing if outliers may exist. We can do this using <code>tSNE</code>."
   ]
  },
  {
   "cell_type": "code",
   "execution_count": 525,
   "metadata": {},
   "outputs": [],
   "source": [
    "if not DEBUG:\n",
    "\ttsne = TSNE(n_jobs=-1)\n",
    "\tTSNE()\n",
    "\tdata_2d = tsne.fit_transform(X_train)"
   ]
  },
  {
   "cell_type": "code",
   "execution_count": 526,
   "metadata": {},
   "outputs": [],
   "source": [
    "if not DEBUG:\n",
    "\tvis_x = data_2d[:, 0]\n",
    "\tvis_y = data_2d[:, 1]\n",
    "\tplt.scatter(vis_x, vis_y, c=y_train, cmap=plt.cm.get_cmap(\"jet\", 10), marker='.')\n",
    "\tcbar = plt.colorbar(ticks=range(10))\n",
    "\tcbar.set_ticks([])\n",
    "\tfor j, lab in enumerate(classes):\n",
    "\t\tcbar.ax.text(1.5, j, f'${lab}$', ha='left', va='center')\n",
    "\n",
    "\tcbar.ax.get_yaxis().labelpad = 15\n",
    "\n",
    "\tplt.clim(-0.5, 9.5)\n",
    "\tplt.title('Clustering Visualization with 2 components')\n",
    "\tplt.show()"
   ]
  },
  {
   "cell_type": "markdown",
   "metadata": {},
   "source": [
    "TSNE produces an <strong>incredibly interesting visualization</strong>. We observe:\n",
    "<ol>\n",
    "\t<li>\n",
    "\t\tThere is a large breakoff of clusters at the top right. Taking a look at the classes we see that they are <code>Sneaker</code>, <code>Ankleboot</code> and <code>Sandal</code>, which are all types of footwear. \n",
    "\t</li>\n",
    "\t<li>\n",
    "\t\tWithin the footwear cluster, we recognise the classes are separated distinctly, with quite sharp edges. \n",
    "\t</li>\n",
    "\t<li>\n",
    "\t\tThe large cluster in the middle contains <code>pullover</code>, <code>dress</code>, <code>t-shirt</code> and <code>shirt</code>. This cluster seems to represent the upper body clothing.\n",
    "\t</li>\n",
    "\t<li>\n",
    "\t\tIn this center cluster, the classes do not have distinct edges, but <strong>rather seem to mix and mingle together</strong>. This suggests that <code>TSNE with 2 components was unable</code> to separate these classes.\n",
    "\t</li>\n",
    "\t<li>\n",
    "\t\tLastly, the cluster at the bottom left represents <code>bag</code>. We recognise a distinct split in the center of the cluster, suggesting that there are two types of bags.\n",
    "\t</li>\n",
    "\t<li>\n",
    "\t\tLooking at the top right cluster, we recognise some red and blue data points in the wrong cluster. This may suggest <strong>presence of outliers</strong>. Let's try to identify outliers and see how we can deal with them.\n",
    "\t</li>\n",
    "</ol>"
   ]
  },
  {
   "cell_type": "markdown",
   "metadata": {},
   "source": [
    "### Using Autoencoders to identify anomalies\n",
    "The idea behind this is that we can use an autoencoder to some what <strong>compress</strong> the image, or restrict the image to its most important features. We'll train this autoencoder on minimising MSE with the original image, thus the autoencoder will learn to capture the more generic and most important features. \n",
    "\n",
    "Thus, after an anomaly has been passed through this autoencoder, we expect the MSE to be quite high as the anomaly image does not follow the general 'style' of the images in the dataset."
   ]
  },
  {
   "cell_type": "markdown",
   "metadata": {},
   "source": [
    "#### Defining the AutoEncoder architecture\n",
    "We'll use a <strong>Convolutional Auto Encoder architecture</strong>, which is better able to extract features from images. This is because artificial neural networks do not account for proximity of each pixel to other pixels."
   ]
  },
  {
   "cell_type": "code",
   "execution_count": 527,
   "metadata": {},
   "outputs": [],
   "source": [
    "class ConvAutoencoder(nn.Module):\n",
    "    def __init__(self):\n",
    "        super(ConvAutoencoder, self).__init__()\n",
    "\n",
    "        self.encoder = nn.Sequential(\n",
    "            nn.Conv2d(1, 8, 3, padding=1, stride=2),\n",
    "            nn.LeakyReLU(),\n",
    "\n",
    "            nn.Conv2d(8, 16, 3, padding=1, stride=2),\n",
    "            nn.LeakyReLU(),\n",
    "\n",
    "            nn.Conv2d(16, 32, 3, padding=0, stride=2),\n",
    "            nn.LeakyReLU(),\n",
    "        )\n",
    "\n",
    "        self.hidden = nn.Sequential(\n",
    "            nn.Flatten(start_dim = 1),\n",
    "            nn.Linear(32 * 3 * 3, 128),\n",
    "            nn.LeakyReLU(),\n",
    "            nn.Linear(128, 32 * 3 * 3),\n",
    "            nn.LeakyReLU(),\n",
    "            nn.Unflatten(1, torch.Size([32, 3, 3]))\n",
    "        )\n",
    "\n",
    "        self.decoder = nn.Sequential(\n",
    "            nn.ConvTranspose2d(32, 16, 3, output_padding=0, stride=2),\n",
    "            nn.LeakyReLU(),\n",
    "            nn.ConvTranspose2d(16, 8, 3, padding=1, output_padding=1, stride=2),\n",
    "            nn.LeakyReLU(),\n",
    "            nn.ConvTranspose2d(8, 1, 3, padding=1, output_padding=1, stride=2),\n",
    "            nn.Sigmoid()\n",
    "        )\n",
    "\n",
    "    def forward(self, x):\n",
    "        x = self.encoder(x)\n",
    "        x = self.hidden(x)\n",
    "        x = self.decoder(x)\n",
    "\n",
    "        return x"
   ]
  },
  {
   "cell_type": "markdown",
   "metadata": {},
   "source": [
    "Now that we have set up the architecture, we can instantiate the model, optimizers and criterion. To train the autoencoder, we'll be using <strong>mean squared error</strong> loss.\n",
    "\n",
    "$$MSE = \\frac{1}{n ^ 2}\\sum_{i = 0}^{n}\\sum_{j = 0}^{n}(X_{ij} - \\hat{X}_{ij}) ^ 2$$\n",
    "\n",
    "where $X_{ij}$ is the true value of the pixel at the $\\text{i'th}$ row and $\\text{j'th}$ column and   \n",
    "$\\hat{X}_{ij}$ is the reconstructed value of the pixel at the $\\text{i'th}$ row and $\\text{j'th}$ column\n",
    "\n",
    "This is because any pixel that <strong>stands out/is an anomaly</strong> will have a <strong>heavily influence</strong> on the loss <strong>due to the square in the loss function</strong>."
   ]
  },
  {
   "cell_type": "code",
   "execution_count": 528,
   "metadata": {},
   "outputs": [],
   "source": [
    "model = ConvAutoencoder().to(device)\n",
    "optimizer = optim.Adam(model.parameters(), lr=1e-3)\n",
    "criterion = nn.MSELoss()"
   ]
  },
  {
   "cell_type": "markdown",
   "metadata": {},
   "source": [
    "#### Loading the dataset\n",
    "Next we need to load the dataset. In order to do this, below is a custom class that acts as a wrapper <strong>to convert a pandas dataframe to PyTorch tensors</strong>, such that we are able to load the dataset into the <code>DataLoader</code> class."
   ]
  },
  {
   "cell_type": "code",
   "execution_count": 529,
   "metadata": {},
   "outputs": [],
   "source": [
    "class TorchDataset():\n",
    "\tdef __init__(self, X, y, X_shape = (1, 28, 28), y_shape = (1, )):\n",
    "\t\tself.x = df_to_tensor(X, X_shape)\n",
    "\t\tself.y = df_to_tensor(y, y_shape)\n",
    "\t\n",
    "\tdef __len__(self):\n",
    "\t\treturn len(self.y)\n",
    "\n",
    "\tdef __getitem__(self, idx):\n",
    "\t\treturn self.x[idx], self.y[idx]\n",
    "\n",
    "train_loader = DataLoader(TorchDataset(X_train, y_train), batch_size=64, shuffle=True)"
   ]
  },
  {
   "cell_type": "markdown",
   "metadata": {},
   "source": [
    "#### Training the Convolutional Auto Encoder\n",
    "We can now train the auto encoder."
   ]
  },
  {
   "cell_type": "code",
   "execution_count": 530,
   "metadata": {},
   "outputs": [],
   "source": [
    "# number of epochs to train the model\n",
    "if not DEBUG:\n",
    "    n_epochs = 100\n",
    "\n",
    "    track_loss = []\n",
    "\n",
    "    for epoch in range(1, n_epochs+1):\n",
    "        # monitor training loss\n",
    "        train_loss = 0.0\n",
    "        \n",
    "        ###################\n",
    "        # train the model #\n",
    "        ###################\n",
    "        for data in train_loader:\n",
    "            # _ stands in for labels, here\n",
    "            # no need to flatten images\n",
    "            images, _ = data\n",
    "            images = images.to(device)\n",
    "            # clear the gradients of all optimized variables\n",
    "            optimizer.zero_grad()\n",
    "            # forward pass: compute predicted outputs by passing inputs to the model\n",
    "            outputs = model(images)\n",
    "            # calculate the loss\n",
    "            loss = criterion(outputs, images)\n",
    "            # backward pass: compute gradient of the loss with respect to model parameters\n",
    "            loss.backward()\n",
    "            # perform a single optimization step (parameter update)\n",
    "            optimizer.step()\n",
    "            # update running training loss\n",
    "            train_loss += loss.item()*images.size(0)\n",
    "                \n",
    "        # print avg training statistics \n",
    "        train_loss = train_loss/len(train_loader)\n",
    "        print('Epoch: {} \\tTraining Loss: {:.6f}'.format(\n",
    "            epoch, \n",
    "            train_loss\n",
    "        ))\n",
    "        track_loss.append(train_loss)\n",
    "\n",
    "    track_loss_df = pd.DataFrame({'epoch': np.arange(1, len(track_loss) + 1), 'loss': track_loss})\n",
    "    sns.lineplot(track_loss_df, x = 'epoch', y = 'loss')"
   ]
  },
  {
   "cell_type": "markdown",
   "metadata": {},
   "source": [
    "#### Interpretting the results\n",
    "Let's take a look at how the autoencoder works"
   ]
  },
  {
   "cell_type": "code",
   "execution_count": 531,
   "metadata": {},
   "outputs": [],
   "source": [
    "if not DEBUG:\n",
    "\timage = df_to_tensor(X_train.iloc[0], (1, 28, 28))\n",
    "\timage = image.to(device)\n",
    "\tencoder_output = model.encoder(image)\n",
    "\tmodel_output = model(image)\n",
    "\timshow([image.cpu().numpy()[0, 0], encoder_output.cpu().detach().numpy()[0, 0], model_output.cpu().detach().numpy()[0, 0]], ['Original', 'Encoder', 'AutoEncoder'])"
   ]
  },
  {
   "cell_type": "markdown",
   "metadata": {},
   "source": [
    "Now that we have a trained and working autoencoder, let's use it to identify any anomalies."
   ]
  },
  {
   "cell_type": "code",
   "execution_count": 532,
   "metadata": {},
   "outputs": [],
   "source": [
    "if not DEBUG:\n",
    "\timages = df_to_tensor(X_train, (1, 28, 28))\n",
    "\timages = images.to(device)\n",
    "\toutputs = model(images)"
   ]
  },
  {
   "cell_type": "markdown",
   "metadata": {},
   "source": [
    "Let's take a look at the <code>99.95'th percentile</code>."
   ]
  },
  {
   "cell_type": "code",
   "execution_count": 533,
   "metadata": {},
   "outputs": [],
   "source": [
    "if not DEBUG:\n",
    "\terrors = mse(outputs, images).detach().cpu().numpy().flatten()\n",
    "\terror_boolean = errors > np.percentile(errors, 99.95)\n",
    "\n",
    "\timshow(X_train.iloc[error_boolean].values.reshape((-1, 28, 28)))"
   ]
  },
  {
   "cell_type": "markdown",
   "metadata": {},
   "source": [
    "We observe:\n",
    "<ol>\n",
    "\t<li>\n",
    "\t</li>\n",
    "</ol>"
   ]
  },
  {
   "cell_type": "markdown",
   "metadata": {},
   "source": [
    "### Hypothesis: Footwear images only point to the left\n",
    "\n",
    "From a view glimpses of footwear classes, we begin to recognise that it seems that all the images point to the left direction: in that the 'pointy' tip of the footwear is at the left and the heel is at the right.\n",
    "\n",
    "Here, let's take a look at 36 randomly sampled footwear."
   ]
  },
  {
   "cell_type": "markdown",
   "metadata": {},
   "source": [
    "#### Random sampling"
   ]
  },
  {
   "cell_type": "code",
   "execution_count": 534,
   "metadata": {},
   "outputs": [
    {
     "data": {
      "image/png": "[encoded data removed]",
      "text/plain": [
       "<Figure size 1000x1000 with 36 Axes>"
      ]
     },
     "metadata": {},
     "output_type": "display_data"
    }
   ],
   "source": [
    "is_footwear = np.isin(y_train.values, [5, 7, 9])\n",
    "footwear_images = X_train[is_footwear]\n",
    "\n",
    "imshow(\n",
    "\tfootwear_images.sample(36).values.reshape((-1, 28, 28)),\n",
    "\tfigsize=(10, 10)\n",
    ")"
   ]
  },
  {
   "cell_type": "markdown",
   "metadata": {},
   "source": [
    "#### Custom Slope Algorithm for Footwear Images\n",
    "\n",
    "To test the orientation of footwear (i.e. whether it's pointed to the left or right), we can use a slope detection algorithm.\n",
    "\n",
    "The idea for this algorithm is below: \n",
    "\n",
    "```\n",
    "[\n",
    "\t[0, 0, 0, 0, 0],\n",
    "\t[0, 0, 0, 1, 1],\n",
    "\t[0, 1, 1, 1, 1],\n",
    "\t[1, 1, 1, 1, 0],\n",
    "\t[0, 0, 0, 0, 0]\n",
    "]\n",
    "```\n",
    "\n",
    "Suppose the above <code>5x5</code> is an image of our shoe. For each column, we'll find the first position where there is a non-zero value.\n",
    "\n",
    "So for the first column it would here:\n",
    "\n",
    "```\n",
    "[\n",
    "\t[0, 0, 0, 0, 0],\n",
    "\t[0, 0, 0, 1, 1],\n",
    "\t[0, 1, 1, 1, 1],\n",
    "\t[*1*, 1, 1, 1, 0],\n",
    "\t[0, 0, 0, 0, 0]\n",
    "]\n",
    "```\n",
    "\n",
    "For second column it would here:\n",
    "\n",
    "```\n",
    "[\n",
    "\t[0, 0, 0, 0, 0],\n",
    "\t[0, 0, 0, 1, 1],\n",
    "\t[0, *1*, 1, 1, 1],\n",
    "\t[1, 1, 1, 1, 0],\n",
    "\t[0, 0, 0, 0, 0]\n",
    "]\n",
    "```\n",
    "\n",
    "Doing this will give us something we can call a <strong>height</strong>. For the above image, our height would be:\n",
    "<code>[2, 3, 3, 4, 4]</code>\n",
    "\n",
    "From this, we can simply determine the direction in which the slant goes. If the slant goes from low to high, it is pointed to the left, otherwise, it is pointed to the right"
   ]
  },
  {
   "cell_type": "code",
   "execution_count": 535,
   "metadata": {},
   "outputs": [],
   "source": [
    "def is_left_pointed(arr):\n",
    "\tarr = np.array(arr)\n",
    "\tgreater = np.where(arr.T > 0) # Gives us all index positions for non zero values\n",
    "\tgreater_df = pd.DataFrame(greater).T # A dataframe where the first column is the column position, and the second column is the row index for non-zero values\n",
    "\n",
    "\t# We will then group by the first column (column), finding the max height for each column\n",
    "\tY = len(arr) - greater_df.groupby(0).agg('min').values.flatten()\n",
    "\tX = np.arange(0, len(Y))\n",
    "\tslope = np.polyfit(X,Y,1)[0]\n",
    "\treturn slope > 0\n",
    "\n",
    "if not DEBUG:\n",
    "\tmylist = footwear_images.values.reshape((-1, 28, 28)).tolist()\n",
    "\tresult = np.array(list(map(is_left_pointed, mylist)))"
   ]
  },
  {
   "cell_type": "code",
   "execution_count": 536,
   "metadata": {},
   "outputs": [],
   "source": [
    "if not DEBUG:\n",
    "\timshow(footwear_images.values.reshape((-1, 28, 28))[result == False][0:49], figsize=(10, 10))"
   ]
  },
  {
   "cell_type": "markdown",
   "metadata": {},
   "source": [
    "We observe:\n",
    "<ul>\n",
    "\t<li><strong>Most of these footwear appear to be slippers</strong>. This makes sense as our algorithm looks for the slope, which the slipper is different from something like a shoe.</li>\n",
    "\t<li>\n",
    "\t\t<strong>We also see images of footwear pointing to the right.</strong>\n",
    "\t</li>\n",
    "</ul>\n",
    "\n",
    "Thus we conclude that when performing data augmentation, we should remember to horizontally flip as well."
   ]
  },
  {
   "cell_type": "markdown",
   "metadata": {},
   "source": [
    "## Feature Engineering\n",
    "\n",
    "We have performed feature engineering during the <strong>preprocessing step</strong>, where we divided all the values of the pixels by 255"
   ]
  },
  {
   "cell_type": "markdown",
   "metadata": {},
   "source": [
    "## Data Augmentation\n",
    "\n",
    "Data augmentation is a technique used to increase the amount of data by adding slightly modified copies of existing data. It acts as a regularizer and helps reduce overfitting when training a machine learning model (Shorten and Khoshgoftaar, 2019).\n",
    "\n",
    "As such, performing data augmentation is likely to have a positive impact on our model performance, if our model overfits.\n",
    "\n",
    "### Basic\n",
    "For our basic augmentation, I decided to perform the following transformations:\n",
    "<ul>\n",
    "\t<li>\n",
    "\t\t<strong>RandomHorizontalFlip</strong> - this is due to the different directions the image would 'point' as seen from our EDA\n",
    "\t</li>\n",
    "\t<li>\n",
    "\t\t<strong>RandomRotation</strong> - The goal here is not to rotate by 90 degrees, but to make slight adjustments of angles such that the model becomes more robust.\n",
    "\t</li>\n",
    "\t<li>\n",
    "\t\t<strong>RandomAffine</strong> - We'll be using affine to <strong>sheer</strong> the images in the y-direction. \n",
    "\t</li>\n",
    "</ul>\n",
    "\n",
    "I realised there was no need to perform cropping augmentation, as working with the dataset has shown me that the images show the item fully."
   ]
  },
  {
   "cell_type": "code",
   "execution_count": 537,
   "metadata": {},
   "outputs": [],
   "source": [
    "t_flip = transforms.RandomHorizontalFlip(p=0.5)\n",
    "t_rotate = transforms.RandomRotation((-5, 5))\n",
    "\n",
    "\n",
    "t_shear = transforms.RandomChoice([\n",
    "\ttransforms.RandomAffine(0, shear = (-5, 5, -5, 5), interpolation=InterpolationMode.NEAREST)\n",
    "])\n",
    "\n",
    "t_basic = transforms.RandomOrder([\n",
    "\tt_flip, t_rotate, t_shear\n",
    "])"
   ]
  },
  {
   "cell_type": "markdown",
   "metadata": {},
   "source": [
    "Below we see how each transformation contributes to the final image."
   ]
  },
  {
   "cell_type": "code",
   "execution_count": 538,
   "metadata": {},
   "outputs": [
    {
     "data": {
      "image/png": "[encoded data removed]",
      "text/plain": [
       "<Figure size 640x480 with 6 Axes>"
      ]
     },
     "metadata": {},
     "output_type": "display_data"
    }
   ],
   "source": [
    "sample_img = copy.deepcopy(df_to_tensor(X_train.iloc[2]))\n",
    "imshow([\n",
    "\tsample_img[0],\n",
    "\tt_flip(copy.deepcopy(sample_img))[0],\n",
    "\tt_rotate(copy.deepcopy(sample_img))[0],\n",
    "\tt_shear(copy.deepcopy(sample_img))[0],\n",
    "\tt_basic(copy.deepcopy(sample_img))[0],\n",
    "], ['Original', 'Flipped', 'Rotate', 'Shear', 'Basic'])"
   ]
  },
  {
   "cell_type": "markdown",
   "metadata": {},
   "source": [
    "### RandomErasing\n",
    "An additionally method of augmentation we can try is <strong>RandomErasing</strong>. RandomErasing is a data augmentation technique which randomly selects a rectangular region of the image and erases those pixels with random values. (Zhong et al., 2017)\n",
    "\n",
    "Let's take a look:"
   ]
  },
  {
   "cell_type": "code",
   "execution_count": 539,
   "metadata": {},
   "outputs": [
    {
     "data": {
      "image/png": "[encoded data removed]",
      "text/plain": [
       "<Figure size 640x480 with 8 Axes>"
      ]
     },
     "metadata": {},
     "output_type": "display_data"
    }
   ],
   "source": [
    "t_erase = transforms.RandomErasing(p = 0.5)\n",
    "\n",
    "imshow([\n",
    "\tsample_img[0],\n",
    "\tt_erase(copy.deepcopy(sample_img))[0],\n",
    "\tt_erase(copy.deepcopy(sample_img))[0],\n",
    "\tt_erase(copy.deepcopy(sample_img))[0],\n",
    "\tt_erase(copy.deepcopy(sample_img))[0],\n",
    "\tt_erase(copy.deepcopy(sample_img))[0],\n",
    "\tt_erase(copy.deepcopy(sample_img))[0],\n",
    "], ['Original', 'RandomErasing', 'RandomErasing', 'RandomErasing', 'RandomErasing', 'RandomErasing', 'RandomErasing'])"
   ]
  },
  {
   "cell_type": "markdown",
   "metadata": {},
   "source": [
    "As random erasing is used on top of basic augmentation, we'll make a compose transformer of the two."
   ]
  },
  {
   "cell_type": "code",
   "execution_count": 540,
   "metadata": {},
   "outputs": [],
   "source": [
    "t_erase = transforms.Compose([\n",
    "\tt_basic,\n",
    "\ttransforms.RandomErasing(p = 0.5)\n",
    "])"
   ]
  },
  {
   "cell_type": "markdown",
   "metadata": {},
   "source": [
    "## Modelling\n",
    "\n",
    "### Metric\n",
    "We'll be using two metrics: <strong>Accuracy</strong> and <strong>Categorical Crossentropy</strong>\n",
    "\n",
    "$$accuracy = \\frac{TP + TN}{TP + TN + FP + FN} $$\n",
    "\n",
    "$$\\text{categorical crossentropy} = -\\sum_{i=1}^{n}y_i \\log{(p_i)} $$\n",
    "\n",
    "We use accuracy to choose the model, as the benchmarks for the Fashion MNIST dataset\n",
    "\n",
    "We use categorical crossentropy as our criterion to train the model, because it heavily penalizes models that are confident and wrong in their prediction. This is due to the logarithmic function in the cross entropy formula. "
   ]
  },
  {
   "cell_type": "markdown",
   "metadata": {},
   "source": [
    "### Model Architectures\n",
    "\n",
    "To help us with training and determining the best models, we set up a trainer that will keep track of our models."
   ]
  },
  {
   "cell_type": "code",
   "execution_count": null,
   "metadata": {},
   "outputs": [],
   "source": [
    "class Trainer():\n",
    "\tdef __init__(self, epochs):\n",
    "\t\tself.history = pd.DataFrame()\n",
    "\n",
    "\tdef show_history(self):\n",
    "\n",
    "\tdef add_model(self, model):\n",
    "\t\t'''\n",
    "\t\t'''\n",
    "\n",
    "\tdef describe_model(self):\n",
    "\n",
    "\tdef plot"
   ]
  },
  {
   "cell_type": "markdown",
   "metadata": {},
   "source": [
    "\n",
    "A\n",
    "We can now get started with determining the best non-fine-tuned model to proceed with.\n",
    "\n",
    "#### Baseline - NN\n",
    "As our baseline, we'll use a simple neural network consisting on l"
   ]
  },
  {
   "cell_type": "code",
   "execution_count": null,
   "metadata": {},
   "outputs": [],
   "source": [
    "class BaseNN(nn.Module):\n",
    "    def __init__(self):\n",
    "        super(BaseNN, self).__init__()\n",
    "\n",
    "\t\tself.flat = nn.Flatten(1)\n",
    "\n",
    "\t\tself.fc1 = nn.Linear(784, 256)\n",
    "\t\tself.fc1_bn = nn.BatchNorm1d()\n",
    "\t\tself.fc1_act = nn.ReLU()\n",
    "\n",
    "\t\tself.fc2 = nn.Linear(256, 64)\n",
    "\t\tself.fc2_bn = nn.BatchNorm1d()\n",
    "\t\tself.fc2_act = nn.ReLU()\n",
    "\n",
    "\t\tself.fc3 = nn.Linear(64, 16)\n",
    "\t\tself.fc3_bn = nn.BatchNorm1d()\n",
    "\t\tself.fc3_act = nn.ReLU()\n",
    "\n",
    "\t\tself.fc4 = nn.Linear(16, 10)\n",
    "\t\tself.fc4_bn = nn.BatchNorm1d()\n",
    "\t\tself.fc4_act = nn.ReLU()\n",
    "\n",
    "    def get_logits(self, x):\n",
    "        x = (x - 0.5) * 2.0\n",
    "        conv1 = F.relu(self.conv1_bn(self.conv1(x)))        # becomes 28x28\n",
    "        pool1 = self.pool1(conv1)                           # becomes 14x14\n",
    "        conv2 = F.relu(self.conv2_bn(self.conv2(pool1)))    # becomes 14x14\n",
    "        pool2 = self.pool2(conv2)                           # becomes 7x7\n",
    "        flat1 = torch.flatten(pool2.permute(0, 2, 3, 1), 1)\n",
    "        logits = self.fc1_bn(self.fc1(flat1))\n",
    "        return logits\n",
    "    def forward(self, x):\n",
    "        logits = self.get_logits(x)\n",
    "        return F.log_softmax(logits, dim=1)"
   ]
  },
  {
   "cell_type": "markdown",
   "metadata": {},
   "source": [
    "\n",
    "#### CNN\n",
    "\n",
    "#### Augmentation + CNN\n",
    "\n",
    "#### ResNet\n",
    "\n",
    "#### Augmentation + ResNet\n",
    "\n",
    "#### VGG\n",
    "\n",
    "#### Augmentation + VGG\n",
    "\n",
    "#### Inception V3\n",
    "\n",
    "#### Augmentation + Inception V3\n",
    "\n",
    "#### CoAtNet\n",
    "\n",
    "#### Augmentation + CoAtNet"
   ]
  },
  {
   "cell_type": "markdown",
   "metadata": {},
   "source": [
    "## Model Improvement\n",
    "\n",
    "### Augmentation Techniques\n",
    "\n",
    "#### FMix\n",
    "\n",
    "### Optimizer\n",
    "#### Learning Rate Tuning\n",
    "#### AdamW\n",
    "#### Regularization\n",
    "\n",
    "### Architecture Change\n",
    "#### BatchNorm -> Layer Norm\n",
    "#### Dropout to MLP block"
   ]
  },
  {
   "cell_type": "markdown",
   "metadata": {},
   "source": [
    "## Model Analysis"
   ]
  }
 ],
 "metadata": {
  "kernelspec": {
   "display_name": "Python 3.10.6 ('pytorch')",
   "language": "python",
   "name": "python3"
  },
  "language_info": {
   "codemirror_mode": {
    "name": "ipython",
    "version": 3
   },
   "file_extension": ".py",
   "mimetype": "text/x-python",
   "name": "python",
   "nbconvert_exporter": "python",
   "pygments_lexer": "ipython3",
   "version": "3.10.6"
  },
  "orig_nbformat": 4,
  "vscode": {
   "interpreter": {
    "hash": "4d19efe0496419facc97fd7ea20d5d3a0b9c1bdc9473c8f87e1305d92cacb204"
   }
  }
 },
 "nbformat": 4,
 "nbformat_minor": 2
}
