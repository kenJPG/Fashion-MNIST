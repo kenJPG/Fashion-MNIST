{
 "cells": [
  {
   "cell_type": "code",
   "execution_count": 1,
   "metadata": {},
   "outputs": [],
   "source": [
    "DEBUG = True"
   ]
  },
  {
   "cell_type": "markdown",
   "metadata": {},
   "source": [
    "### References"
   ]
  },
  {
   "cell_type": "markdown",
   "metadata": {},
   "source": [
    "<img src=\"https://static.vecteezy.com/system/resources/previews/000/108/974/original/vector-fashion-girl.jpg\" width=\"700px\" />\n",
    "\n",
    "## Fashion-MNIST Classification\n",
    "\n",
    "> Can we develop a model that performs well on the Fashion-MNIST dataset?\n",
    "\n",
    "### Context\n",
    "Fashion-MNIST is a dataset from Zalando research, comprising of <code>28 x 28</code> grayscale images of a total fo <code>70000</code> fashion products from 10 categories. The intent of this dataset is to serve as a replacement for the MNIST dataset for testing and benchmarking machine learning and deep learning models (Xiao, Rasul and Vollgraf, 2017).\n",
    "\n",
    "The dataset is based on images from Zalando's assortment. Each original image of <code>762 x 1000</code> in JPEG format was converted to PNG, resized, and then converted to grayscale.\n",
    "\n",
    "### Objectives\n",
    "<ol>\n",
    "\t<li>To explore and understand the dataset</li>\n",
    "\t<li>Understand the effects of different data augmentation techniques on the performance of the model</li>\n",
    "\t<li>Develop and experiment with models in order to rival state-of-the-art (SOTA) benchmark scores</li>\n",
    "</ol>\n",
    "\n",
    "## Importing libraries\n",
    "We import the necessary libraries for the notebook to run below."
   ]
  },
  {
   "cell_type": "code",
   "execution_count": 2,
   "metadata": {},
   "outputs": [],
   "source": [
    "import math\n",
    "if not DEBUG:\n",
    "\tfrom MulticoreTSNE import MulticoreTSNE as TSNE\n",
    "import pandas as pd\n",
    "import numpy as np\n",
    "import cv2\n",
    "import matplotlib.pyplot as plt\n",
    "import copy\n",
    "import random\n",
    "from sklearn.model_selection import train_test_split\n",
    "import seaborn as sns\n",
    "sns.set('notebook')\n",
    "from PIL import Image\n",
    "\n",
    "import torch\n",
    "from torch import nn, optim\n",
    "from torchvision import transforms\n",
    "from torch.utils.data import DataLoader, Dataset\n",
    "from torchvision.transforms import InterpolationMode\n",
    "import os"
   ]
  },
  {
   "cell_type": "markdown",
   "metadata": {},
   "source": [
    "We see the seed such that the notebook results in reproducible results when run. \n",
    "\n",
    "We also set the device to CUDA to enable torch to use our GPU."
   ]
  },
  {
   "cell_type": "code",
   "execution_count": 3,
   "metadata": {},
   "outputs": [
    {
     "name": "stdout",
     "output_type": "stream",
     "text": [
      "Device available now: cuda\n"
     ]
    }
   ],
   "source": [
    "def set_seed(seed = 1234):\n",
    "    '''Sets the seed of the entire notebook so results are the same every time we run.\n",
    "    This is for REPRODUCIBILITY.'''\n",
    "    np.random.seed(seed)\n",
    "    random.seed(seed)\n",
    "    torch.manual_seed(seed)\n",
    "    torch.cuda.manual_seed(seed)\n",
    "    # When running on the CuDNN backend, two further options must be set\n",
    "    torch.backends.cudnn.deterministic = True\n",
    "    # Set a fixed value for the hash seed\n",
    "    os.environ['PYTHONHASHSEED'] = str(seed)\n",
    "    \n",
    "set_seed()\n",
    "device = torch.device('cuda' if torch.cuda.is_available() else 'cpu')\n",
    "print('Device available now:', device)\n",
    "if device != torch.device('cuda'):\n",
    "    print('using cpu, exiting')\n",
    "    assert False"
   ]
  },
  {
   "cell_type": "markdown",
   "metadata": {},
   "source": [
    "## Utility Functions\n",
    "Below we define some utility functions that will ease and help us with our analysis."
   ]
  },
  {
   "cell_type": "code",
   "execution_count": 4,
   "metadata": {},
   "outputs": [],
   "source": [
    "def loc_data(data, loc):\n",
    "\tdatacopy = copy.deepcopy(data)\n",
    "\tarr = np.array(datacopy.loc[loc].drop('label'))\n",
    "\tlabel = datacopy.loc[loc]['label']\n",
    "\troot = int(len(arr) ** 0.5)\n",
    "\tarr.resize((root, root))\n",
    "\treturn label, arr\n",
    "\n",
    "def imshow(arr: list, label: list = None, grayscale=True, figsize=None):\n",
    "\tif label == None:\n",
    "\t\tlabel = [''] * len(arr)\n",
    "\n",
    "\theight = int(len(arr) ** 0.5)\n",
    "\twidth = math.ceil(len(arr) / height)\n",
    "\n",
    "\tif figsize == None:\n",
    "\t\tfig = plt.figure()\n",
    "\telse:\n",
    "\t\tfig = plt.figure(figsize=figsize)\n",
    "\tfor i in range(height):\n",
    "\t\tfor j in range(width):\n",
    "\t\t\tax = fig.add_subplot(height, width, i * height + j + 1)\n",
    "\t\t\tax.grid(False)\n",
    "\t\t\tax.set_xticks([])\n",
    "\t\t\tax.set_yticks([])\n",
    "\t\t\tax.imshow(arr[i * height + j], cmap='gray' if grayscale else '')\n",
    "\t\t\tax.set_title(label[i * height + j])\n",
    "\n",
    "def df_to_tensor(df, shape = (28, 28)):\n",
    "\treturn torch.tensor(df.values.reshape((-1, *shape)), dtype=torch.float32)\n",
    "\n",
    "\n",
    "def preprocess(df):\n",
    "\treturn df.applymap(lambda x: x / 255)\n",
    "\n",
    "def mse(t1, t2, shape=(28, 28)):\n",
    "\tloss = nn.MSELoss(reduction='none')\n",
    "\tloss_result = torch.sum(loss(t1, t2), dim=2)\n",
    "\tloss_result = torch.sum(loss_result, dim=2)\n",
    "\tloss_result = loss_result / np.prod([*shape])\n",
    "\treturn loss_result"
   ]
  },
  {
   "cell_type": "markdown",
   "metadata": {},
   "source": [
    "## Dataset\n",
    "Let's take a look at the dataset. This dataset was retrieved from the original Fashion MNIST dataset found at <a href=\"https://arxiv.org/pdf/1708.07747v2.pdf\">Paper Link</a>. \n",
    "\n",
    "<table>\n",
    "\t<tr>\n",
    "\t\t<th>\n",
    "\t\t\tColumn Name\n",
    "\t\t</th>\n",
    "\t\t<th>\n",
    "\t\t\tDescription\n",
    "\t\t</th>\n",
    "\t</tr>\n",
    "\t<tr>\n",
    "\t\t<td>\n",
    "\t\t\tlabel\n",
    "\t\t</td>\n",
    "\t\t<td>\n",
    "\t\t\tThe true class of the image, represented as an integer ranging from 0 to 9<strong>*</strong>\n",
    "\t\t</td>\n",
    "\t</tr>\n",
    "\t<tr>\n",
    "\t\t<td>\n",
    "\t\t\tpixel 1<br/>...<br/>pixel 784\n",
    "\t\t</td>\n",
    "\t\t<td>\n",
    "\t\t\tPixels representing the image, each pixel ranging from 0 to 255\n",
    "\t\t</td>\n",
    "\t</tr>\n",
    "</table>\n",
    "\n",
    "<strong>\\*</strong>Each number represents a certain dress item\n",
    "```\n",
    "0 -> T-shirt/top\n",
    "1 -> Trouser\n",
    "2 -> Pullover\n",
    "3 -> Dress\n",
    "4 -> Coat\n",
    "5 -> Sandal\n",
    "6 -> Shirt\n",
    "7 -> Sneaker\n",
    "8 -> Bag\n",
    "9 -> Ankle boot\n",
    "```"
   ]
  },
  {
   "cell_type": "code",
   "execution_count": 5,
   "metadata": {},
   "outputs": [],
   "source": [
    "classes = ['T-shirt/top', 'Trouser', 'Pullover', 'Dress', 'Coat', 'Sandal', 'Shirt', 'Sneaker', 'Bag', 'Ankle boot']"
   ]
  },
  {
   "cell_type": "markdown",
   "metadata": {},
   "source": [
    "Let's take a look at the training dataset"
   ]
  },
  {
   "cell_type": "code",
   "execution_count": 6,
   "metadata": {},
   "outputs": [
    {
     "data": {
      "text/plain": [
       "(60000, 785)"
      ]
     },
     "execution_count": 6,
     "metadata": {},
     "output_type": "execute_result"
    }
   ],
   "source": [
    "train = pd.read_csv('data/fashion-mnist_train.csv')\n",
    "train.shape"
   ]
  },
  {
   "cell_type": "markdown",
   "metadata": {},
   "source": [
    "We observe that there are a total of <code>60000</code> rows and <code>785</code> columns, which is exactly what the original paper mentioned."
   ]
  },
  {
   "cell_type": "markdown",
   "metadata": {},
   "source": [
    "### Testing for missing values and invalid data\n",
    "Let's try to identify if there are any missing values"
   ]
  },
  {
   "cell_type": "code",
   "execution_count": 7,
   "metadata": {},
   "outputs": [
    {
     "data": {
      "text/plain": [
       "0"
      ]
     },
     "execution_count": 7,
     "metadata": {},
     "output_type": "execute_result"
    }
   ],
   "source": [
    "train.isnull().sum().sum()"
   ]
  },
  {
   "cell_type": "markdown",
   "metadata": {},
   "source": [
    "It appears <strong>no missing values are found</strong>. We will then check for any potential typos.\n",
    "<ol>\n",
    "\t<li>Firstly, the label should only consist of values from 0 - 9</li>\n",
    "\t<li>Secondly, the pixel values should only fall in between and inclusive of 0 - 255</li>\n",
    "</ol>"
   ]
  },
  {
   "cell_type": "code",
   "execution_count": 8,
   "metadata": {},
   "outputs": [
    {
     "name": "stdout",
     "output_type": "stream",
     "text": [
      "Minimum and Maximum values of labels: 0 and 9\n",
      "Number of values falling outside the range (0 - 255): 0\n"
     ]
    }
   ],
   "source": [
    "print('Minimum and Maximum values of labels:', train['label'].min(), \"and\", train['label'].max())\n",
    "print(\"Number of values falling outside the range (0 - 255):\",\n",
    "\ttrain.applymap(\n",
    "\t\tlambda x: x < 0 or x > 255 # True if out of range\n",
    "\t).sum().sum()\n",
    ")"
   ]
  },
  {
   "cell_type": "markdown",
   "metadata": {},
   "source": [
    "We observe that the dataset seems to be properly cleaned, thus can proceed knowing that <strong>no sign of invalid or missing data have been found.</strong>"
   ]
  },
  {
   "cell_type": "markdown",
   "metadata": {},
   "source": [
    "### Preprocessing\n",
    "We'll convert the data such that the range <code>0 - 255</code> becomes <code>0 - 1</code>"
   ]
  },
  {
   "cell_type": "code",
   "execution_count": 9,
   "metadata": {},
   "outputs": [],
   "source": [
    "train[train.columns[train.columns != 'label']] = preprocess(train[train.columns[train.columns != 'label']])"
   ]
  },
  {
   "cell_type": "markdown",
   "metadata": {},
   "source": [
    "## Exploratory Data Analysis\n",
    "In the EDA, we'll be attempting to complete the following set of objectives:\n",
    "\n",
    "### EDA Objectives\n",
    "<ol>\n",
    "\t<li>\n",
    "\t\tIs there any <strong>class imbalance</strong>\n",
    "\t</li>\n",
    "\t<li>\n",
    "\t\tWhat does the <strong>average image</strong> look like?\n",
    "\t</li>\n",
    "\t<li>\n",
    "\t\tAre there <strong>any outliers/anomalies</strong>?\n",
    "\t</li>\n",
    "</ol>\n",
    "Before we begin the EDA, we first need to remove a chunk of the training data to be used as validation dataset in order to avoid data leakage due to the decisions we make during EDA.\n",
    "\n",
    "### Validation Dataset\n",
    "Let's make our validation dataset. I decided that I will <strong>not be using cross validation during the modelling process</strong> due to the following reasons:\n",
    "<ul>\n",
    "\t<li>Time taken to train models, especially if utilising <strong>computationally expensive layers, activation functions or architecture</strong></li>\n",
    "\t<li>Additionally due to the sheer size of the dataset, not only does this add to increased training time but also means there is enough data such that cross validation is not necessary</li>\n",
    "</ul>\n",
    "\n",
    "We'll use a validation size of <code>10000</code> to mimic the size of the test dataset. We'll also stratify on the <code>label</code> to ensure that the model we generalizes best across all \n",
    "the classes."
   ]
  },
  {
   "cell_type": "code",
   "execution_count": 10,
   "metadata": {},
   "outputs": [
    {
     "name": "stdout",
     "output_type": "stream",
     "text": [
      "X_train shape: (50000, 784)\n",
      "X_val shape: (10000, 784)\n",
      "y_train shape: (50000,)\n",
      "y_val shape: (10000,)\n"
     ]
    }
   ],
   "source": [
    "X_train, X_val, y_train, y_val = train_test_split(train.drop('label', axis=1), train['label'], test_size = 10000 / len(train), stratify=train['label'])\n",
    "print(\"X_train shape:\", X_train.shape)\n",
    "print(\"X_val shape:\", X_val.shape)\n",
    "print(\"y_train shape:\", y_train.shape)\n",
    "print(\"y_val shape:\", y_val.shape)"
   ]
  },
  {
   "cell_type": "markdown",
   "metadata": {},
   "source": [
    "We see that the data have been split correctly and now we can begin our EDA!\n",
    "\n",
    "### Signs of class imbalance?\n",
    "We'll first identify the situation with class imbalance"
   ]
  },
  {
   "cell_type": "code",
   "execution_count": 11,
   "metadata": {},
   "outputs": [
    {
     "data": {
      "text/plain": [
       "<AxesSubplot: xlabel='label', ylabel='Count'>"
      ]
     },
     "execution_count": 11,
     "metadata": {},
     "output_type": "execute_result"
    },
    {
     "data": {
      "image/png": "[encoded data removed]",
      "text/plain": [
       "<Figure size 640x480 with 1 Axes>"
      ]
     },
     "metadata": {},
     "output_type": "display_data"
    }
   ],
   "source": [
    "sns.histplot(y_train)"
   ]
  },
  {
   "cell_type": "markdown",
   "metadata": {},
   "source": [
    "We observe the distribution of labels to be similar for all classes, reaching roughly a count of `5000`. Thus, there is no sign of class imbalance."
   ]
  },
  {
   "cell_type": "markdown",
   "metadata": {},
   "source": [
    "### What does the average image look like?\n",
    "Let's take a look at a random sample of image each first."
   ]
  },
  {
   "cell_type": "code",
   "execution_count": 12,
   "metadata": {},
   "outputs": [
    {
     "data": {
      "image/png": "[encoded data removed]",
      "text/plain": [
       "<Figure size 640x480 with 12 Axes>"
      ]
     },
     "metadata": {},
     "output_type": "display_data"
    }
   ],
   "source": [
    "images = []\n",
    "titles = []\n",
    "\n",
    "for i in range(10):\n",
    "\tidx = random.sample(list(y_train[y_train == i].index), 1)\n",
    "\timages.append(X_train.loc[idx].values.reshape((28, 28)))\n",
    "\ttitles.append(classes[y_train.loc[idx].values[0]])\n",
    "\n",
    "imshow(images, titles)"
   ]
  },
  {
   "cell_type": "markdown",
   "metadata": {},
   "source": [
    "We observe that sometimes, there appears to be certain images that are <strong>darker</strong> than others. This suggests that no form of normalization or scaling has been applied to the dataset. Let's take a look at the distribution of brightness to confirm this."
   ]
  },
  {
   "cell_type": "code",
   "execution_count": 13,
   "metadata": {},
   "outputs": [
    {
     "data": {
      "text/plain": [
       "Text(0.5, 0, 'Average Brightness per Image')"
      ]
     },
     "execution_count": 13,
     "metadata": {},
     "output_type": "execute_result"
    },
    {
     "data": {
      "image/png": "[encoded data removed]",
      "text/plain": [
       "<Figure size 640x480 with 1 Axes>"
      ]
     },
     "metadata": {},
     "output_type": "display_data"
    }
   ],
   "source": [
    "fig = plt.figure()\n",
    "ax = fig.subplots()\n",
    "\n",
    "# Note: we want to IGNORE the background of black, filtering by using x != 0\n",
    "sns.histplot(X_train.apply(lambda x: x[x != 0].mean(), axis=1).values, ax=ax) \n",
    "ax.set_xlabel('Average Brightness per Image')"
   ]
  },
  {
   "cell_type": "markdown",
   "metadata": {},
   "source": [
    "We observe:\n",
    "<ol>\n",
    "\t<li>\n",
    "\t\tMost of the images are on the brighter side as we see a large bulk of the distribution going towards the right side.\n",
    "\t</li>\n",
    "\t<li>\n",
    "\t\tThe distribution is skewed to the left, which suggests that we have a few images which are quite dark.\n",
    "\t</li>\n",
    "</ol>"
   ]
  },
  {
   "cell_type": "markdown",
   "metadata": {},
   "source": [
    "\n",
    "To find out what the average image looks like, we'll perform an average of the pixels across the different classes."
   ]
  },
  {
   "cell_type": "code",
   "execution_count": 14,
   "metadata": {},
   "outputs": [
    {
     "data": {
      "image/png": "[encoded data removed]",
      "text/plain": [
       "<Figure size 640x480 with 1 Axes>"
      ]
     },
     "metadata": {},
     "output_type": "display_data"
    }
   ],
   "source": [
    "imshow([\n",
    "\tX_train.mean().apply(lambda x: x).values.reshape(28, 28)\n",
    "], ['Average of all'])"
   ]
  },
  {
   "cell_type": "markdown",
   "metadata": {},
   "source": [
    "We observe:\n",
    "<ol>\n",
    "\t<li>The corners of the images are dark/black. This means there is likely no piece of clothing the spreads across the image.</li>\n",
    "\t<li>There is a bright circle-shape in the middle. This tells us most of these images are centered around in the middle</li>\n",
    "\t<li>An <strong>interesting note to point out</strong> is there seems to be some sort of darker 'bar' in the middle, separating the lightest parts of the image.</li>\n",
    "\t<li>\n",
    "\t\tThis may be due to the presence of trousers in the dataset, as from previous images, we can see trousers appears to be the only apparel with such a contrasting stripe in the middle.\n",
    "\t</li>\n",
    "</ol>"
   ]
  },
  {
   "cell_type": "markdown",
   "metadata": {},
   "source": [
    "#### Average image among the classes\n",
    "Next we'll split by the classes and find the average among them."
   ]
  },
  {
   "cell_type": "code",
   "execution_count": 15,
   "metadata": {},
   "outputs": [
    {
     "data": {
      "image/png": "[encoded data removed]",
      "text/plain": [
       "<Figure size 640x480 with 12 Axes>"
      ]
     },
     "metadata": {},
     "output_type": "display_data"
    }
   ],
   "source": [
    "images = []\n",
    "titles = []\n",
    "\n",
    "for i in range(10):\n",
    "\tidx = random.sample(list(y_train[y_train == i].index), 1)\n",
    "\timages.append(X_train[y_train == i].mean().apply(lambda x: x).values.reshape(28, 28))\n",
    "\ttitles.append(f'Avg {classes[y_train.loc[idx].values[0]]}')\n",
    "\n",
    "imshow(images, titles)"
   ]
  },
  {
   "cell_type": "markdown",
   "metadata": {},
   "source": [
    "We observe:\n",
    "<ol>\n",
    "\t<li>Each type of apparel generally has the same shape</li>\n",
    "\t<li>The most <strong>spread out/least consistent</strong> class seems to be sandals, as seen from the opaque and thicker edges, where as the other types have sharper and lighter borders.</li>\n",
    "</ol>\n"
   ]
  },
  {
   "cell_type": "markdown",
   "metadata": {},
   "source": [
    "### Are there any outliers/anomalies?\n",
    "\n",
    "We see from the average images, that the piece of clothing in the image are <strong>centered and upright</strong>, in that there are no sort of rotations going on.\n",
    "\n",
    "As such, let's see if there may be any outlier images, such as rotations or anomaly white spots on the image.\n",
    "\n",
    "We'll start by visualizing the dataset and seeing if outliers may exist. We can do this using <code>tSNE</code>."
   ]
  },
  {
   "cell_type": "code",
   "execution_count": 16,
   "metadata": {},
   "outputs": [],
   "source": [
    "if not DEBUG:\n",
    "\ttsne = TSNE(n_jobs=-1)\n",
    "\tTSNE()\n",
    "\tdata_2d = tsne.fit_transform(X_train)"
   ]
  },
  {
   "cell_type": "code",
   "execution_count": 17,
   "metadata": {},
   "outputs": [],
   "source": [
    "if not DEBUG:\n",
    "\tvis_x = data_2d[:, 0]\n",
    "\tvis_y = data_2d[:, 1]\n",
    "\tplt.scatter(vis_x, vis_y, c=y_train, cmap=plt.cm.get_cmap(\"jet\", 10), marker='.')\n",
    "\tcbar = plt.colorbar(ticks=range(10))\n",
    "\tcbar.set_ticks([])\n",
    "\tfor j, lab in enumerate(classes):\n",
    "\t\tcbar.ax.text(1.5, j, f'${lab}$', ha='left', va='center')\n",
    "\n",
    "\tcbar.ax.get_yaxis().labelpad = 15\n",
    "\n",
    "\tplt.clim(-0.5, 9.5)\n",
    "\tplt.title('Clustering Visualization with 2 components')\n",
    "\tplt.show()"
   ]
  },
  {
   "cell_type": "markdown",
   "metadata": {},
   "source": [
    "TSNE produces an <strong>incredibly interesting visualization</strong>. We observe:\n",
    "<ol>\n",
    "\t<li>\n",
    "\t\tThere is a large breakoff of clusters at the top right. Taking a look at the classes we see that they are <code>Sneaker</code>, <code>Ankleboot</code> and <code>Sandal</code>, which are all types of footwear. \n",
    "\t</li>\n",
    "\t<li>\n",
    "\t\tWithin the footwear cluster, we recognise the classes are separated distinctly, with quite sharp edges. \n",
    "\t</li>\n",
    "\t<li>\n",
    "\t\tThe large cluster in the middle contains <code>pullover</code>, <code>dress</code>, <code>t-shirt</code> and <code>shirt</code>. This cluster seems to represent the upper body clothing.\n",
    "\t</li>\n",
    "\t<li>\n",
    "\t\tIn this center cluster, the classes do not have distinct edges, but <strong>rather seem to mix and mingle together</strong>. This suggests that <code>TSNE with 2 components was unable</code> to separate these classes.\n",
    "\t</li>\n",
    "\t<li>\n",
    "\t\tLastly, the cluster at the bottom left represents <code>bag</code>. We recognise a distinct split in the center of the cluster, suggesting that there are two types of bags.\n",
    "\t</li>\n",
    "\t<li>\n",
    "\t\tLooking at the top right cluster, we recognise some red and blue data points in the wrong cluster. This may suggest <strong>presence of outliers</strong>. Let's try to identify outliers and see how we can deal with them.\n",
    "\t</li>\n",
    "</ol>"
   ]
  },
  {
   "cell_type": "markdown",
   "metadata": {},
   "source": [
    "### Using Autoencoders to identify anomalies\n",
    "The idea behind this is that we can use an autoencoder to some what <strong>compress</strong> the image, or restrict the image to its most important features. We'll train this autoencoder on minimising MSE with the original image, thus the autoencoder will learn to capture the more generic and most important features. \n",
    "\n",
    "Thus, after an anomaly has been passed through this autoencoder, we expect the MSE to be quite high as the anomaly image does not follow the general 'style' of the images in the dataset."
   ]
  },
  {
   "cell_type": "markdown",
   "metadata": {},
   "source": [
    "#### Defining the AutoEncoder architecture\n",
    "We'll use a <strong>Convolutional Auto Encoder architecture</strong>, which is better able to extract features from images. This is because artificial neural networks do not account for proximity of each pixel to other pixels."
   ]
  },
  {
   "cell_type": "code",
   "execution_count": 18,
   "metadata": {},
   "outputs": [],
   "source": [
    "class ConvAutoencoder(nn.Module):\n",
    "    def __init__(self):\n",
    "        super(ConvAutoencoder, self).__init__()\n",
    "\n",
    "        self.encoder = nn.Sequential(\n",
    "            nn.Conv2d(1, 8, 3, padding=1, stride=2),\n",
    "            nn.LeakyReLU(),\n",
    "\n",
    "            nn.Conv2d(8, 16, 3, padding=1, stride=2),\n",
    "            nn.LeakyReLU(),\n",
    "\n",
    "            nn.Conv2d(16, 32, 3, padding=0, stride=2),\n",
    "            nn.LeakyReLU(),\n",
    "        )\n",
    "\n",
    "        self.hidden = nn.Sequential(\n",
    "            nn.Flatten(start_dim = 1),\n",
    "            nn.Linear(32 * 3 * 3, 128),\n",
    "            nn.LeakyReLU(),\n",
    "            nn.Linear(128, 32 * 3 * 3),\n",
    "            nn.LeakyReLU(),\n",
    "            nn.Unflatten(1, torch.Size([32, 3, 3]))\n",
    "        )\n",
    "\n",
    "        self.decoder = nn.Sequential(\n",
    "            nn.ConvTranspose2d(32, 16, 3, output_padding=0, stride=2),\n",
    "            nn.LeakyReLU(),\n",
    "            nn.ConvTranspose2d(16, 8, 3, padding=1, output_padding=1, stride=2),\n",
    "            nn.LeakyReLU(),\n",
    "            nn.ConvTranspose2d(8, 1, 3, padding=1, output_padding=1, stride=2),\n",
    "            nn.Sigmoid()\n",
    "        )\n",
    "\n",
    "    def forward(self, x):\n",
    "        x = self.encoder(x)\n",
    "        x = self.hidden(x)\n",
    "        x = self.decoder(x)\n",
    "\n",
    "        return x"
   ]
  },
  {
   "cell_type": "markdown",
   "metadata": {},
   "source": [
    "Now that we have set up the architecture, we can instantiate the model, optimizers and criterion. To train the autoencoder, we'll be using <strong>mean squared error</strong> loss.\n",
    "\n",
    "$$MSE = \\frac{1}{n ^ 2}\\sum_{i = 0}^{n}\\sum_{j = 0}^{n}(X_{ij} - \\hat{X}_{ij}) ^ 2$$\n",
    "\n",
    "where $X_{ij}$ is the true value of the pixel at the $\\text{i'th}$ row and $\\text{j'th}$ column and   \n",
    "$\\hat{X}_{ij}$ is the reconstructed value of the pixel at the $\\text{i'th}$ row and $\\text{j'th}$ column\n",
    "\n",
    "This is because any pixel that <strong>stands out/is an anomaly</strong> will have a <strong>heavily influence</strong> on the loss <strong>due to the square in the loss function</strong>."
   ]
  },
  {
   "cell_type": "code",
   "execution_count": 19,
   "metadata": {},
   "outputs": [],
   "source": [
    "model = ConvAutoencoder().to(device)\n",
    "optimizer = optim.Adam(model.parameters(), lr=1e-3)\n",
    "criterion = nn.MSELoss()"
   ]
  },
  {
   "cell_type": "markdown",
   "metadata": {},
   "source": [
    "#### Loading the dataset\n",
    "Next we need to load the dataset. In order to do this, below is a custom class that acts as a wrapper <strong>to convert a pandas dataframe to PyTorch tensors</strong>, such that we are able to load the dataset into the <code>DataLoader</code> class."
   ]
  },
  {
   "cell_type": "code",
   "execution_count": 20,
   "metadata": {},
   "outputs": [],
   "source": [
    "def to_prob_dist(labels: torch.tensor, size = 10):\n",
    "\tarr = np.full((len(labels), size), 0)\n",
    "\tfor i, label in enumerate(labels):\n",
    "\t\tarr[i][int(label.item())] = 1\n",
    "\treturn torch.tensor(arr, dtype=torch.float32)\n",
    "\n",
    "\n",
    "class TorchDataset():\n",
    "\tdef __init__(self, X, y, X_shape = (1, 28, 28), y_shape = (1, )):\n",
    "\t\tself.x = df_to_tensor(X, X_shape).to(device)\n",
    "\t\tself.y = df_to_tensor(y, y_shape)\n",
    "\n",
    "\t\t# Transform labels to probability distributions\n",
    "\t\tself.y = to_prob_dist(self.y).to(device)\n",
    "\t\n",
    "\tdef __len__(self):\n",
    "\t\treturn len(self.y)\n",
    "\n",
    "\tdef __getitem__(self, idx):\n",
    "\t\treturn self.x[idx], self.y[idx]\n",
    "\n",
    "train_loader = DataLoader(TorchDataset(X_train, y_train), batch_size=64, shuffle=True)"
   ]
  },
  {
   "cell_type": "markdown",
   "metadata": {},
   "source": [
    "#### Training the Convolutional Auto Encoder\n",
    "We can now train the auto encoder."
   ]
  },
  {
   "cell_type": "code",
   "execution_count": 21,
   "metadata": {},
   "outputs": [],
   "source": [
    "# number of epochs to train the model\n",
    "if not DEBUG:\n",
    "    n_epochs = 100\n",
    "\n",
    "    track_loss = []\n",
    "\n",
    "    for epoch in range(1, n_epochs+1):\n",
    "        # monitor training loss\n",
    "        train_loss = 0.0\n",
    "        \n",
    "        ###################\n",
    "        # train the model #\n",
    "        ###################\n",
    "        for data in train_loader:\n",
    "            # _ stands in for labels, here\n",
    "            # no need to flatten images\n",
    "            images, _ = data\n",
    "            images = images.to(device)\n",
    "            # clear the gradients of all optimized variables\n",
    "            optimizer.zero_grad()\n",
    "            # forward pass: compute predicted outputs by passing inputs to the model\n",
    "            outputs = model(images)\n",
    "            # calculate the loss\n",
    "            loss = criterion(outputs, images)\n",
    "            # backward pass: compute gradient of the loss with respect to model parameters\n",
    "            loss.backward()\n",
    "            # perform a single optimization step (parameter update)\n",
    "            optimizer.step()\n",
    "            # update running training loss\n",
    "            train_loss += loss.item()*images.size(0)\n",
    "                \n",
    "        # print avg training statistics \n",
    "        train_loss = train_loss/len(train_loader)\n",
    "        print('Epoch: {} \\tTraining Loss: {:.6f}'.format(\n",
    "            epoch, \n",
    "            train_loss\n",
    "        ))\n",
    "        track_loss.append(train_loss)\n",
    "\n",
    "    track_loss_df = pd.DataFrame({'epoch': np.arange(1, len(track_loss) + 1), 'loss': track_loss})\n",
    "    sns.lineplot(track_loss_df, x = 'epoch', y = 'loss')"
   ]
  },
  {
   "cell_type": "markdown",
   "metadata": {},
   "source": [
    "#### Interpretting the results\n",
    "Let's take a look at how the autoencoder works"
   ]
  },
  {
   "cell_type": "code",
   "execution_count": 22,
   "metadata": {},
   "outputs": [],
   "source": [
    "if not DEBUG:\n",
    "\timage = df_to_tensor(X_train.iloc[0], (1, 28, 28))\n",
    "\timage = image.to(device)\n",
    "\tencoder_output = model.encoder(image)\n",
    "\tmodel_output = model(image)\n",
    "\timshow([image.cpu().numpy()[0, 0], encoder_output.cpu().detach().numpy()[0, 0], model_output.cpu().detach().numpy()[0, 0]], ['Original', 'Encoder', 'AutoEncoder'])"
   ]
  },
  {
   "cell_type": "markdown",
   "metadata": {},
   "source": [
    "Now that we have a trained and working autoencoder, let's use it to identify any anomalies."
   ]
  },
  {
   "cell_type": "code",
   "execution_count": 23,
   "metadata": {},
   "outputs": [],
   "source": [
    "if not DEBUG:\n",
    "\timages = df_to_tensor(X_train, (1, 28, 28))\n",
    "\timages = images.to(device)\n",
    "\toutputs = model(images)"
   ]
  },
  {
   "cell_type": "markdown",
   "metadata": {},
   "source": [
    "Let's take a look at the <code>99.95'th percentile</code>."
   ]
  },
  {
   "cell_type": "code",
   "execution_count": 24,
   "metadata": {},
   "outputs": [],
   "source": [
    "if not DEBUG:\n",
    "\terrors = mse(outputs, images).detach().cpu().numpy().flatten()\n",
    "\terror_boolean = errors > np.percentile(errors, 99.95)\n",
    "\n",
    "\timshow(X_train.iloc[error_boolean].values.reshape((-1, 28, 28)))"
   ]
  },
  {
   "cell_type": "markdown",
   "metadata": {},
   "source": [
    "We observe:\n",
    "<ol>\n",
    "\t<li>\n",
    "\t</li>\n",
    "</ol>"
   ]
  },
  {
   "cell_type": "markdown",
   "metadata": {},
   "source": [
    "### Hypothesis: Footwear images only point to the left\n",
    "\n",
    "From a view glimpses of footwear classes, we begin to recognise that it seems that all the images point to the left direction: in that the 'pointy' tip of the footwear is at the left and the heel is at the right.\n",
    "\n",
    "Here, let's take a look at 36 randomly sampled footwear."
   ]
  },
  {
   "cell_type": "markdown",
   "metadata": {},
   "source": [
    "#### Random sampling"
   ]
  },
  {
   "cell_type": "code",
   "execution_count": 25,
   "metadata": {},
   "outputs": [
    {
     "data": {
      "image/png": "[encoded data removed]",
      "text/plain": [
       "<Figure size 1000x1000 with 36 Axes>"
      ]
     },
     "metadata": {},
     "output_type": "display_data"
    }
   ],
   "source": [
    "is_footwear = np.isin(y_train.values, [5, 7, 9])\n",
    "footwear_images = X_train[is_footwear]\n",
    "\n",
    "imshow(\n",
    "\tfootwear_images.sample(36).values.reshape((-1, 28, 28)),\n",
    "\tfigsize=(10, 10)\n",
    ")"
   ]
  },
  {
   "cell_type": "markdown",
   "metadata": {},
   "source": [
    "#### Custom Slope Algorithm for Footwear Images\n",
    "\n",
    "To test the orientation of footwear (i.e. whether it's pointed to the left or right), we can use a slope detection algorithm.\n",
    "\n",
    "The idea for this algorithm is below: \n",
    "\n",
    "```\n",
    "[\n",
    "\t[0, 0, 0, 0, 0],\n",
    "\t[0, 0, 0, 1, 1],\n",
    "\t[0, 1, 1, 1, 1],\n",
    "\t[1, 1, 1, 1, 0],\n",
    "\t[0, 0, 0, 0, 0]\n",
    "]\n",
    "```\n",
    "\n",
    "Suppose the above <code>5x5</code> is an image of our shoe. For each column, we'll find the first position where there is a non-zero value.\n",
    "\n",
    "So for the first column it would here:\n",
    "\n",
    "```\n",
    "[\n",
    "\t[0, 0, 0, 0, 0],\n",
    "\t[0, 0, 0, 1, 1],\n",
    "\t[0, 1, 1, 1, 1],\n",
    "\t[*1*, 1, 1, 1, 0],\n",
    "\t[0, 0, 0, 0, 0]\n",
    "]\n",
    "```\n",
    "\n",
    "For second column it would here:\n",
    "\n",
    "```\n",
    "[\n",
    "\t[0, 0, 0, 0, 0],\n",
    "\t[0, 0, 0, 1, 1],\n",
    "\t[0, *1*, 1, 1, 1],\n",
    "\t[1, 1, 1, 1, 0],\n",
    "\t[0, 0, 0, 0, 0]\n",
    "]\n",
    "```\n",
    "\n",
    "Doing this will give us something we can call a <strong>height</strong>. For the above image, our height would be:\n",
    "<code>[2, 3, 3, 4, 4]</code>\n",
    "\n",
    "From this, we can simply determine the direction in which the slant goes. If the slant goes from low to high, it is pointed to the left, otherwise, it is pointed to the right"
   ]
  },
  {
   "cell_type": "code",
   "execution_count": 26,
   "metadata": {},
   "outputs": [],
   "source": [
    "def is_left_pointed(arr):\n",
    "\tarr = np.array(arr)\n",
    "\tgreater = np.where(arr.T > 0) # Gives us all index positions for non zero values\n",
    "\tgreater_df = pd.DataFrame(greater).T # A dataframe where the first column is the column position, and the second column is the row index for non-zero values\n",
    "\n",
    "\t# We will then group by the first column (column), finding the max height for each column\n",
    "\tY = len(arr) - greater_df.groupby(0).agg('min').values.flatten()\n",
    "\tX = np.arange(0, len(Y))\n",
    "\tslope = np.polyfit(X,Y,1)[0]\n",
    "\treturn slope > 0\n",
    "\n",
    "if not DEBUG:\n",
    "\tmylist = footwear_images.values.reshape((-1, 28, 28)).tolist()\n",
    "\tresult = np.array(list(map(is_left_pointed, mylist)))"
   ]
  },
  {
   "cell_type": "code",
   "execution_count": 27,
   "metadata": {},
   "outputs": [],
   "source": [
    "if not DEBUG:\n",
    "\timshow(footwear_images.values.reshape((-1, 28, 28))[result == False][0:49], figsize=(10, 10))"
   ]
  },
  {
   "cell_type": "code",
   "execution_count": 28,
   "metadata": {},
   "outputs": [
    {
     "data": {
      "text/plain": [
       "0"
      ]
     },
     "execution_count": 28,
     "metadata": {},
     "output_type": "execute_result"
    }
   ],
   "source": [
    "torch.cuda.current_device()"
   ]
  },
  {
   "cell_type": "markdown",
   "metadata": {},
   "source": [
    "We observe:\n",
    "<ul>\n",
    "\t<li><strong>Most of these footwear appear to be slippers</strong>. This makes sense as our algorithm looks for the slope, which the slipper is different from something like a shoe.</li>\n",
    "\t<li>\n",
    "\t\t<strong>We also see images of footwear pointing to the right.</strong>\n",
    "\t</li>\n",
    "</ul>\n",
    "\n",
    "Thus we conclude that when performing data augmentation, we should remember to horizontally flip as well."
   ]
  },
  {
   "cell_type": "markdown",
   "metadata": {},
   "source": [
    "## Feature Engineering\n",
    "\n",
    "We have performed feature engineering during the <strong>preprocessing step</strong>, where we divided all the values of the pixels by 255"
   ]
  },
  {
   "cell_type": "markdown",
   "metadata": {},
   "source": [
    "## Data Augmentation\n",
    "\n",
    "Data augmentation is a technique used to increase the amount of data by adding slightly modified copies of existing data. It acts as a regularizer and helps reduce overfitting when training a machine learning model (Shorten and Khoshgoftaar, 2019).\n",
    "\n",
    "As such, performing data augmentation is likely to have a positive impact on our model performance, if our model overfits.\n",
    "\n",
    "### Basic\n",
    "For our basic augmentation, I decided to perform the following transformations:\n",
    "<ul>\n",
    "\t<li>\n",
    "\t\t<strong>RandomHorizontalFlip</strong> - this is due to the different directions the image would 'point' as seen from our EDA\n",
    "\t</li>\n",
    "\t<li>\n",
    "\t\t<strong>RandomRotation</strong> - The goal here is not to rotate by 90 degrees, but to make slight adjustments of angles such that the model becomes more robust.\n",
    "\t</li>\n",
    "\t<li>\n",
    "\t\t<strong>RandomAffine</strong> - We'll be using affine to <strong>sheer</strong> the images in the y-direction. \n",
    "\t</li>\n",
    "</ul>\n",
    "\n",
    "I realised there was no need to perform cropping augmentation, as working with the dataset has shown me that the images show the item fully."
   ]
  },
  {
   "cell_type": "code",
   "execution_count": 29,
   "metadata": {},
   "outputs": [],
   "source": [
    "t_flip = transforms.RandomHorizontalFlip(p=1)\n",
    "t_rotate = transforms.RandomRotation((-5, 5))\n",
    "\n",
    "\n",
    "t_shear = transforms.RandomChoice([\n",
    "\ttransforms.RandomAffine(0, shear = (-10, 10, -10, 10), interpolation=InterpolationMode.NEAREST)\n",
    "])\n",
    "\n",
    "t_basic = transforms.RandomOrder([\n",
    "\tt_flip, t_rotate, t_shear\n",
    "])"
   ]
  },
  {
   "cell_type": "markdown",
   "metadata": {},
   "source": [
    "Below we see how each transformation contributes to the final image."
   ]
  },
  {
   "cell_type": "code",
   "execution_count": 30,
   "metadata": {},
   "outputs": [
    {
     "data": {
      "image/png": "[encoded data removed]",
      "text/plain": [
       "<Figure size 640x480 with 6 Axes>"
      ]
     },
     "metadata": {},
     "output_type": "display_data"
    }
   ],
   "source": [
    "sample_img = copy.deepcopy(df_to_tensor(X_train.iloc[2]))\n",
    "imshow([\n",
    "\tsample_img[0],\n",
    "\tt_flip(copy.deepcopy(sample_img))[0],\n",
    "\tt_rotate(copy.deepcopy(sample_img))[0],\n",
    "\tt_shear(copy.deepcopy(sample_img))[0],\n",
    "\tt_basic(copy.deepcopy(sample_img))[0],\n",
    "], ['Original', 'Flipped', 'Rotate', 'Shear', 'Basic'])"
   ]
  },
  {
   "cell_type": "markdown",
   "metadata": {},
   "source": [
    "### RandomErasing\n",
    "An additionally method of augmentation we can try is <strong>RandomErasing</strong>. RandomErasing is a data augmentation technique which randomly selects a rectangular region of the image and erases those pixels with random values. (Zhong et al., 2017)\n",
    "\n",
    "Let's take a look:"
   ]
  },
  {
   "cell_type": "code",
   "execution_count": 31,
   "metadata": {},
   "outputs": [
    {
     "data": {
      "image/png": "[encoded data removed]",
      "text/plain": [
       "<Figure size 640x480 with 8 Axes>"
      ]
     },
     "metadata": {},
     "output_type": "display_data"
    }
   ],
   "source": [
    "t_erase = transforms.RandomErasing(p = 1)\n",
    "\n",
    "imshow([\n",
    "\tsample_img[0],\n",
    "\tt_erase(copy.deepcopy(sample_img))[0],\n",
    "\tt_erase(copy.deepcopy(sample_img))[0],\n",
    "\tt_erase(copy.deepcopy(sample_img))[0],\n",
    "\tt_erase(copy.deepcopy(sample_img))[0],\n",
    "\tt_erase(copy.deepcopy(sample_img))[0],\n",
    "\tt_erase(copy.deepcopy(sample_img))[0],\n",
    "], ['Original', 'RandomErasing', 'RandomErasing', 'RandomErasing', 'RandomErasing', 'RandomErasing', 'RandomErasing'])"
   ]
  },
  {
   "cell_type": "markdown",
   "metadata": {},
   "source": [
    "As random erasing is used on top of basic augmentation, we'll make a compose transformer of the two."
   ]
  },
  {
   "cell_type": "code",
   "execution_count": 32,
   "metadata": {},
   "outputs": [],
   "source": [
    "t_erase = transforms.Compose([\n",
    "\tt_basic,\n",
    "\ttransforms.RandomErasing(p = 1)\n",
    "])"
   ]
  },
  {
   "cell_type": "markdown",
   "metadata": {},
   "source": [
    "## Modelling\n",
    "\n",
    "### Metric\n",
    "We'll be using two metrics: <strong>Accuracy</strong> and <strong>Categorical Crossentropy</strong>\n",
    "\n",
    "$$accuracy = \\frac{TP + TN}{TP + TN + FP + FN} $$\n",
    "\n",
    "$$\\text{categorical crossentropy} = -\\sum_{i=1}^{n}y_i \\log{(p_i)} $$\n",
    "\n",
    "We use accuracy to choose the model, as the benchmarks for the Fashion MNIST dataset are in terms of accuracy. Additionally, the dataset does not have an imbalanced class issue, thus using accuracy is not unsuitable.\n",
    "\n",
    "We use categorical crossentropy as our criterion to train the model, because it heavily penalizes models that are confident and wrong in their prediction. This is due to the logarithmic function in the cross entropy formula. "
   ]
  },
  {
   "cell_type": "markdown",
   "metadata": {},
   "source": [
    "### Set up training environment\n",
    "Let's set up the necessary details for our training to begin. Firstly, <strong>we define our datasets below</strong>."
   ]
  },
  {
   "cell_type": "code",
   "execution_count": 33,
   "metadata": {},
   "outputs": [],
   "source": [
    "def perform_augmentation(torch_dataset: TorchDataset, transform):\n",
    "\tdata_copy = copy.deepcopy(torch_dataset)\n",
    "\tX = copy.deepcopy(data_copy.x)\n",
    "\ttransformed = transform(X)\n",
    "\tdata_copy.x = torch.cat((X, transformed), dim = 0)\n",
    "\treturn data_copy\n",
    "\n",
    "train_data = TorchDataset(X_train, y_train)\n",
    "val_data = TorchDataset(X_val, y_val)\n",
    "train_augmented_erase = perform_augmentation(TorchDataset(X_train, y_train), t_erase)"
   ]
  },
  {
   "cell_type": "markdown",
   "metadata": {},
   "source": [
    "#### Custom Early Stopping\n",
    "Additionally, instead of <strong>arbitrarily choosing the number of epochs</strong> or fine tuning it (which computationally will take long), I decided to use <strong>Early Stopping</strong> as a mechanism.\n",
    "\n",
    "Overfitting is something that occurs when a model begins to extract some of the residual variation such as noise under the assumption that it is learning the patterns (Burnham and Anderson, 2010). Essentially, it starts to <strong>memorize instead of generalize</strong>. Traditional Early Stopping attempts to combat overfitting by stopping training if the performance/loss of the model on a validation set does not improve over $n$ epochs, where $n$ is the patience parameter. However, it requires <strong>clever tuning</strong> to prevent underfitting (Adam, 2018). As such to address this problem, I use a custom implemented early stopping class inspired by this <a href=\"https://alexadam.ca/2018/08/03/early-stopping/\">article</a>.\n",
    "\n",
    "The idea of this custom early stopping is that we <strong>only stop training</strong> if there are no improvements in <strong>both loss and accuracy</strong>. If there is an improve in any of the single quantities, the patience counter is reset. This tackles the issue of the underlying assumption that <strong>\"loss is correlated with accuracy</strong>\", and becomes a more lenient form of early stopping, ideally decreasing underfitting."
   ]
  },
  {
   "cell_type": "code",
   "execution_count": 34,
   "metadata": {},
   "outputs": [],
   "source": [
    "class CustomEarlyStopping():\n",
    "\tdef __init__(self, patience, extra_train = 0, min_loss_delta = 0, min_acc_delta = 0):\n",
    "\t\tself.patience = patience\n",
    "\t\tself.best_loss = 1e9\n",
    "\t\tself.best_acc = 0\n",
    "\t\tself.patience_count = 0\n",
    "\t\tself.count = 0\n",
    "\t\tself.extra_train = extra_train\n",
    "\t\tself.extra_train_start = False\n",
    "\t\tself.stop = False\n",
    "\n",
    "\t\tself.min_loss_delta = min_loss_delta\n",
    "\t\tself.min_acc_delta = min_acc_delta\n",
    "\n",
    "\tdef __call__(self, loss, accuracy):\n",
    "\t\tself.save_state = False\n",
    "\t\tif self.best_loss - loss > self.min_loss_delta or accuracy - self.best_acc > self.min_acc_delta:\n",
    "\t\t\tif self.best_loss - loss > self.min_loss_delta:\n",
    "\t\t\t\tself.best_loss = loss\n",
    "\t\t\tif accuracy - self.best_acc > self.min_acc_delta:\n",
    "\t\t\t\tself.best_acc = accuracy\n",
    "\n",
    "\t\t\tself.count = 0\n",
    "\t\telse:\n",
    "\t\t\tself.count += 1\n",
    "\t\t\n",
    "\t\tif self.count >= max(self.patience, self.extra_train):\n",
    "\t\t\tself.stop = True"
   ]
  },
  {
   "cell_type": "markdown",
   "metadata": {},
   "source": [
    "#### Trainer\n",
    "To help us with training and determining the best models, we set up a trainer that will <strong>keep track of our models</strong> and <strong>ease the modelling process</strong>."
   ]
  },
  {
   "cell_type": "code",
   "execution_count": 55,
   "metadata": {},
   "outputs": [],
   "source": [
    "def accurate_count(pred, true):\n",
    "\treturn ((pred.argmax(dim=1) == true.argmax(dim=1)).sum()).item()\n",
    "\n",
    "\t\n",
    "class Trainer():\n",
    "\tdef __init__(self, val_data, criterion):\n",
    "\t\tself.saves = {}\n",
    "\t\tself.loss_tracker = {}\n",
    "\t\tself.history = pd.DataFrame()\n",
    "\t\tself.val_data = val_data\n",
    "\n",
    "\tdef show_history(self):\n",
    "\t\tpass\n",
    "\n",
    "\tdef train_model(self, name, model_pass, optimizer_pass, optimizer_args, train_data: TorchDataset, scheduler_pass = None, scheduler_args = None, batch_size = 64, early_stopping = None, epochs = 200, verbose = False):\n",
    "\t\tmodel = model_pass().to(device)\n",
    "\t\toptimizer = optimizer_pass(model.parameters(), **optimizer_args)\n",
    "\t\ttrain_loader = DataLoader(train_data, batch_size = batch_size, shuffle = True)\n",
    "\t\tval_loader = DataLoader(val_data, batch_size = batch_size, shuffle = True)\n",
    "\n",
    "\t\tif scheduler_pass != None:\n",
    "\t\t\tscheduler = scheduler_pass(optimizer, **scheduler_args)\n",
    "\n",
    "\t\tdone = 0\n",
    "\t\tn_epochs = epochs\n",
    "\t\t\n",
    "\t\ttrack_loss = np.full((epochs, 4), 0.0, dtype=np.float32) # train acc, train loss, val acc, val loss\n",
    "\n",
    "\t\tbest_performance_df = pd.DataFrame({'Train Loss': 1000, 'Val Loss': 1000, 'Train Acc': 0, 'Val Acc': 0}, index = [name])\n",
    "\t\tbest_val_loss = 1e9\n",
    "\n",
    "\t\tself.end_training = 0\n",
    "\t\tself.extra_trained = 0\n",
    "\n",
    "\t\tfor epoch in range(1, n_epochs+1):\n",
    "\t\t\t# monitor training loss\n",
    "\t\t\ttrain_loss = 0.0\n",
    "\t\t\ttrain_acc_count = 0\n",
    "\t\t\ttotal_sample = 0\n",
    "\t\t\t\n",
    "\t\t\t###################\n",
    "\t\t\t# train the model #\n",
    "\t\t\t###################\n",
    "\t\t\tfor data in train_loader:\n",
    "\t\t\t\t# _ stands in for labels, here\n",
    "\t\t\t\t# no need to flatten images\n",
    "\t\t\t\tinputs, labels = data\n",
    "\t\t\t\tinputs = inputs.cuda()\n",
    "\t\t\t\tlabels = labels.cuda()\n",
    "\t\t\t\t# clear the gradients of all optimized variables\n",
    "\t\t\t\toptimizer.zero_grad()\n",
    "\t\t\t\t# forward pass: compute predicted outputs by passing inputs to the model\n",
    "\t\t\t\toutputs = model(inputs)\n",
    "\t\t\t\t# calculate the loss\n",
    "\t\t\t\tloss = criterion(outputs, labels)\n",
    "\t\t\t\t# backward pass: compute gradient of the loss with respect to model parameters\n",
    "\t\t\t\tloss.backward()\n",
    "\t\t\t\t# perform a single optimization step (parameter update)\n",
    "\t\t\t\toptimizer.step()\n",
    "\t\t\t\tif scheduler_pass != None:\n",
    "\t\t\t\t\tscheduler.step()\n",
    "\t\t\t\t# update running training loss\n",
    "\t\t\t\ttrain_loss += loss.item() * inputs.size(0)\n",
    "\t\t\t\ttrain_acc_count += accurate_count(outputs, labels)\n",
    "\t\t\t\ttotal_sample += len(labels)\n",
    "\t\t\t\t\t\n",
    "\t\t\t# print avg training statistics \n",
    "\t\t\ttrain_loss = train_loss/len(train_loader)\n",
    "\t\t\ttrain_acc = train_acc_count / total_sample\n",
    "\n",
    "\t\t\tval_loss = 0.0\n",
    "\t\t\tval_acc_count = 0\n",
    "\t\t\ttotal_sample = 0\n",
    "\t\t\tfor i, data in enumerate(val_loader):\n",
    "\t\t\t\tinputs, labels = data                             \n",
    "\t\t\t\tinputs = inputs.to(device)\n",
    "\t\t\t\tlabels = labels.to(device)\n",
    "\t\t\t\t\t\t\t\t\t\t\t\t\t\t\t\t\n",
    "\t\t\t\toutputs = model(inputs)                           \n",
    "\t\t\t\tloss = criterion(outputs, labels)                 \n",
    "\n",
    "\t\t\t\tval_loss += loss.item() * inputs.size(0)\n",
    "\t\t\t\tval_acc_count += accurate_count(outputs, labels)\n",
    "\t\t\t\ttotal_sample += len(labels)\n",
    "\n",
    "\t\t\tval_loss = val_loss / len(val_loader)\n",
    "\t\t\tval_acc = val_acc_count / total_sample\n",
    "\n",
    "\t\t\tif verbose:\n",
    "\t\t\t\tprint(f\"Epoch: {epoch} | Train Loss: {train_loss:.5f} \\tVal Loss: {val_loss:.5f} \\tTrain Acc: {train_acc:.3f} \\tVal Acc: {val_acc:.3f}\")\n",
    "\n",
    "\t\t\ttrack_loss[epoch - 1][0] = train_acc\n",
    "\t\t\ttrack_loss[epoch - 1][1] = train_loss\n",
    "\t\t\ttrack_loss[epoch - 1][2] = val_acc\n",
    "\t\t\ttrack_loss[epoch - 1][3] = val_loss\n",
    "\t\t\tdone = epoch\n",
    "\n",
    "\t\t\tif val_loss < best_val_loss or (early_stopping != None and early_stopping.extra_train_start):\n",
    "\t\t\t\tbest_performance_df = pd.DataFrame({'Train Loss': train_loss, 'Val Loss': val_loss, 'Train Acc': train_acc, 'Val Acc': val_acc}, index = [name])\n",
    "\t\t\t\tself.end_training = epoch\n",
    "\t\t\t\tbest_val_loss = val_loss\n",
    "\t\t\t\tself.save_model(name, model)\n",
    "\n",
    "\t\t\tearly_stopping(val_loss, val_acc)\n",
    "\n",
    "\t\t\tif early_stopping.count == early_stopping.extra_train:\n",
    "\t\t\t\tself.extra_trained = epoch\n",
    "\t\t\t\tbest_performance_df = pd.DataFrame({'Train Loss': train_loss, 'Val Loss': val_loss, 'Train Acc': train_acc, 'Val Acc': val_acc}, index = [name])\n",
    "\t\t\t\tself.save_model(name, model)\n",
    "\n",
    "\t\t\tif early_stopping != None and early_stopping.stop:\n",
    "\t\t\t\tif (verbose):\n",
    "\t\t\t\t\tprint(f\"Stopping due to early stopping | patience = {early_stopping.patience}, extra_train = {early_stopping.extra_train}\")\n",
    "\t\t\t\tbreak\n",
    "\n",
    "\t\ttrack_loss.resize((done, 4))\n",
    "\t\tself.record(name, track_loss, best_performance_df)\n",
    "\n",
    "\tdef record(self, name, track_loss, best_performance_df):\n",
    "\t\ttrack_loss_df = pd.DataFrame(track_loss, columns=['Train Acc', 'Train Loss', 'Val Acc', 'Val Loss'])\n",
    "\t\ttrack_loss_df.index += 1\n",
    "\t\ttrack_loss_df.index.name = 'Epoch'\n",
    "\n",
    "\t\tself.history = pd.concat([self.history, best_performance_df], axis=0)\n",
    "\t\tself.loss_tracker[name] = track_loss_df\n",
    "\n",
    "\tdef save_model(self, name, model):\n",
    "\t\tself.saves[name] = copy.deepcopy(model)\n",
    "\n",
    "\tdef get_model(self, name):\n",
    "\t\treturn copy.deepcopy(self.saves[name])\n",
    "\n",
    "\tdef archive(self, name):\n",
    "\t\tfig = plt.figure(figsize=(14, 5))\n",
    "\t\ttrain, val = sns.color_palette('Set2')[0:2]\n",
    "\t\tloss, acc = fig.subplots(1, 2)\n",
    "\n",
    "\t\tloss.axvspan(1, self.end_training, color=sns.color_palette('Paired')[0], alpha=0.4, lw=0, label='Training') \n",
    "\t\tif self.extra_trained != self.end_training:\n",
    "\t\t\tloss.axvspan(self.end_training, self.extra_trained, color=sns.color_palette('Set2')[3], alpha=0.2, lw=0, label='Extra Train') \n",
    "\n",
    "\t\tloss.plot(self.loss_tracker[name].index, self.loss_tracker[name]['Train Loss'], label='Train', color=train)\n",
    "\t\tloss.plot(self.loss_tracker[name].index, self.loss_tracker[name]['Val Loss'], label='Val', color=val)\n",
    "\t\tloss.set_xlabel('Epoch')\n",
    "\t\tloss.set_ylabel('Loss')\n",
    "\n",
    "\t\tacc.axvspan(1, self.end_training, color=sns.color_palette('Paired')[0], alpha=0.4, lw=0, label='Training') \n",
    "\t\tacc.axvspan(self.end_training, self.extra_trained, color=sns.color_palette('Set2')[3], alpha=0.2, lw=0, label='Extra Train') \n",
    "\t\tacc.plot(self.loss_tracker[name].index, self.loss_tracker[name]['Train Acc'], label='Train', color=train)\n",
    "\t\tacc.plot(self.loss_tracker[name].index, self.loss_tracker[name]['Val Acc'], label='Val', color=val)\n",
    "\n",
    "\t\tacc.set_xlabel('Epoch')\n",
    "\t\tacc.set_ylabel('Accuracy')\n",
    "\n",
    "\t\tacc.legend()\n",
    "\t\tloss.legend()\n",
    "\t\t\n",
    "\t\tfig.savefig(f'plots/{name}.png')\n",
    "\t\tplt.close()\n",
    "\t\tdel self.loss_tracker[name]"
   ]
  },
  {
   "cell_type": "markdown",
   "metadata": {},
   "source": [
    "We instantiate our trainer with our validation data, along with our loss function: <strong>categorical crossentropy</strong>"
   ]
  },
  {
   "cell_type": "code",
   "execution_count": 56,
   "metadata": {},
   "outputs": [],
   "source": [
    "trainer = Trainer(val_data, nn.CrossEntropyLoss)"
   ]
  },
  {
   "cell_type": "markdown",
   "metadata": {},
   "source": [
    "### Model Architectures\n",
    "We can now get started with determining the best non-fine-tuned model to proceed with.\n",
    "\n",
    "#### Baseline - NN\n",
    "As our baseline, we'll use a simple neural network consisting of:\n",
    "<ol>\n",
    "<li>Linear layer</li>\n",
    "<li>Batch Normalization</li>\n",
    "<li>ReLU</li>\n",
    "</ol>"
   ]
  },
  {
   "cell_type": "code",
   "execution_count": 57,
   "metadata": {},
   "outputs": [],
   "source": [
    "class BaseNN(nn.Module):\n",
    "    def __init__(self):\n",
    "        super(BaseNN, self).__init__()\n",
    "\n",
    "        self.flat = nn.Flatten(1)\n",
    "\n",
    "        self.fc1 = nn.Linear(784, 256)\n",
    "        self.fc1_bn = nn.BatchNorm1d(256)\n",
    "        self.fc1_act = nn.ReLU()\n",
    "\n",
    "        self.fc2 = nn.Linear(256, 64)\n",
    "        self.fc2_bn = nn.BatchNorm1d(64)\n",
    "        self.fc2_act = nn.ReLU()\n",
    "\n",
    "        self.fc3 = nn.Linear(64, 16)\n",
    "        self.fc3_bn = nn.BatchNorm1d(16)\n",
    "        self.fc3_act = nn.ReLU()\n",
    "\n",
    "        self.fc4 = nn.Linear(16, 10)\n",
    "        self.fc4_bn = nn.BatchNorm1d(10)\n",
    "        self.fc4_act = nn.ReLU()\n",
    "\n",
    "    def get_logits(self, x):\n",
    "        x = self.flat(x)\n",
    "        x = self.fc1_act(self.fc1_bn(self.fc1(x)))\n",
    "        x = self.fc2_act(self.fc2_bn(self.fc2(x)))\n",
    "        x = self.fc3_act(self.fc3_bn(self.fc3(x)))\n",
    "        x = self.fc4_act(self.fc4_bn(self.fc4(x)))\n",
    "        logits = x\n",
    "        return logits\n",
    "\n",
    "    def forward(self, x):\n",
    "        logits = self.get_logits(x)\n",
    "        return nn.functional.softmax(logits, dim=1)"
   ]
  },
  {
   "cell_type": "code",
   "execution_count": 58,
   "metadata": {},
   "outputs": [
    {
     "name": "stdout",
     "output_type": "stream",
     "text": [
      "Epoch: 1 | Train Loss: 1.94348 \tVal Loss: 1.53893 \tTrain Acc: 0.819 \tVal Acc: 0.849\n",
      "Epoch: 2 | Train Loss: 1.41372 \tVal Loss: 1.33430 \tTrain Acc: 0.858 \tVal Acc: 0.862\n",
      "Epoch: 3 | Train Loss: 1.26420 \tVal Loss: 1.27692 \tTrain Acc: 0.871 \tVal Acc: 0.865\n",
      "Epoch: 4 | Train Loss: 1.17699 \tVal Loss: 1.21823 \tTrain Acc: 0.878 \tVal Acc: 0.870\n",
      "Epoch: 5 | Train Loss: 1.11185 \tVal Loss: 1.20727 \tTrain Acc: 0.885 \tVal Acc: 0.872\n",
      "Epoch: 6 | Train Loss: 1.04871 \tVal Loss: 1.17411 \tTrain Acc: 0.891 \tVal Acc: 0.876\n",
      "Epoch: 7 | Train Loss: 1.00926 \tVal Loss: 1.11125 \tTrain Acc: 0.896 \tVal Acc: 0.883\n",
      "Epoch: 8 | Train Loss: 0.94994 \tVal Loss: 1.14540 \tTrain Acc: 0.901 \tVal Acc: 0.878\n",
      "Epoch: 9 | Train Loss: 0.91468 \tVal Loss: 1.08080 \tTrain Acc: 0.906 \tVal Acc: 0.885\n",
      "Epoch: 10 | Train Loss: 0.88480 \tVal Loss: 1.11015 \tTrain Acc: 0.909 \tVal Acc: 0.883\n",
      "Epoch: 11 | Train Loss: 0.84995 \tVal Loss: 1.06026 \tTrain Acc: 0.913 \tVal Acc: 0.890\n",
      "Epoch: 12 | Train Loss: 0.81243 \tVal Loss: 1.12482 \tTrain Acc: 0.916 \tVal Acc: 0.882\n",
      "Epoch: 13 | Train Loss: 0.77619 \tVal Loss: 1.03771 \tTrain Acc: 0.922 \tVal Acc: 0.892\n",
      "Epoch: 14 | Train Loss: 0.75831 \tVal Loss: 1.09392 \tTrain Acc: 0.923 \tVal Acc: 0.886\n",
      "Epoch: 15 | Train Loss: 0.73902 \tVal Loss: 1.11163 \tTrain Acc: 0.925 \tVal Acc: 0.883\n",
      "Epoch: 16 | Train Loss: 0.70898 \tVal Loss: 1.06137 \tTrain Acc: 0.929 \tVal Acc: 0.890\n",
      "Epoch: 17 | Train Loss: 0.68609 \tVal Loss: 1.07463 \tTrain Acc: 0.931 \tVal Acc: 0.886\n",
      "Epoch: 18 | Train Loss: 0.65058 \tVal Loss: 1.04383 \tTrain Acc: 0.935 \tVal Acc: 0.891\n",
      "Epoch: 19 | Train Loss: 0.63304 \tVal Loss: 1.02789 \tTrain Acc: 0.937 \tVal Acc: 0.895\n",
      "Epoch: 20 | Train Loss: 0.61661 \tVal Loss: 1.05906 \tTrain Acc: 0.940 \tVal Acc: 0.890\n",
      "Epoch: 21 | Train Loss: 0.61721 \tVal Loss: 1.05524 \tTrain Acc: 0.938 \tVal Acc: 0.890\n",
      "Epoch: 22 | Train Loss: 0.58434 \tVal Loss: 1.04362 \tTrain Acc: 0.942 \tVal Acc: 0.892\n",
      "Epoch: 23 | Train Loss: 0.55606 \tVal Loss: 1.06784 \tTrain Acc: 0.945 \tVal Acc: 0.888\n",
      "Epoch: 24 | Train Loss: 0.54506 \tVal Loss: 1.07466 \tTrain Acc: 0.946 \tVal Acc: 0.889\n",
      "Epoch: 25 | Train Loss: 0.53558 \tVal Loss: 1.07308 \tTrain Acc: 0.947 \tVal Acc: 0.890\n",
      "Epoch: 26 | Train Loss: 0.51892 \tVal Loss: 1.02374 \tTrain Acc: 0.949 \tVal Acc: 0.894\n",
      "Epoch: 27 | Train Loss: 0.49695 \tVal Loss: 1.06405 \tTrain Acc: 0.951 \tVal Acc: 0.890\n",
      "Epoch: 28 | Train Loss: 0.49592 \tVal Loss: 1.10848 \tTrain Acc: 0.951 \tVal Acc: 0.888\n",
      "Epoch: 29 | Train Loss: 0.47430 \tVal Loss: 1.02258 \tTrain Acc: 0.953 \tVal Acc: 0.894\n",
      "Epoch: 30 | Train Loss: 0.46957 \tVal Loss: 1.04184 \tTrain Acc: 0.953 \tVal Acc: 0.894\n",
      "Epoch: 31 | Train Loss: 0.45652 \tVal Loss: 1.02548 \tTrain Acc: 0.955 \tVal Acc: 0.897\n",
      "Epoch: 32 | Train Loss: 0.44296 \tVal Loss: 1.03876 \tTrain Acc: 0.956 \tVal Acc: 0.896\n",
      "Epoch: 33 | Train Loss: 0.43778 \tVal Loss: 1.08354 \tTrain Acc: 0.957 \tVal Acc: 0.889\n",
      "Epoch: 34 | Train Loss: 0.41154 \tVal Loss: 1.05124 \tTrain Acc: 0.959 \tVal Acc: 0.895\n",
      "Epoch: 35 | Train Loss: 0.41497 \tVal Loss: 1.07321 \tTrain Acc: 0.959 \tVal Acc: 0.894\n",
      "Epoch: 36 | Train Loss: 0.41520 \tVal Loss: 1.04045 \tTrain Acc: 0.959 \tVal Acc: 0.895\n",
      "Epoch: 37 | Train Loss: 0.39381 \tVal Loss: 1.05762 \tTrain Acc: 0.961 \tVal Acc: 0.892\n",
      "Epoch: 38 | Train Loss: 0.39060 \tVal Loss: 1.05873 \tTrain Acc: 0.962 \tVal Acc: 0.893\n",
      "Epoch: 39 | Train Loss: 0.38468 \tVal Loss: 1.08484 \tTrain Acc: 0.962 \tVal Acc: 0.891\n",
      "Epoch: 40 | Train Loss: 0.36813 \tVal Loss: 1.08942 \tTrain Acc: 0.964 \tVal Acc: 0.888\n",
      "Epoch: 41 | Train Loss: 0.36186 \tVal Loss: 1.12917 \tTrain Acc: 0.965 \tVal Acc: 0.886\n",
      "Stopping due to early stopping | patience = 10, extra_train = 0\n"
     ]
    },
    {
     "data": {
      "text/html": [
       "<div>\n",
       "<style scoped>\n",
       "    .dataframe tbody tr th:only-of-type {\n",
       "        vertical-align: middle;\n",
       "    }\n",
       "\n",
       "    .dataframe tbody tr th {\n",
       "        vertical-align: top;\n",
       "    }\n",
       "\n",
       "    .dataframe thead th {\n",
       "        text-align: right;\n",
       "    }\n",
       "</style>\n",
       "<table border=\"1\" class=\"dataframe\">\n",
       "  <thead>\n",
       "    <tr style=\"text-align: right;\">\n",
       "      <th></th>\n",
       "      <th>Train Loss</th>\n",
       "      <th>Val Loss</th>\n",
       "      <th>Train Acc</th>\n",
       "      <th>Val Acc</th>\n",
       "    </tr>\n",
       "  </thead>\n",
       "  <tbody>\n",
       "    <tr>\n",
       "      <th>Baseline NN</th>\n",
       "      <td>0.456521</td>\n",
       "      <td>1.025482</td>\n",
       "      <td>0.95504</td>\n",
       "      <td>0.8967</td>\n",
       "    </tr>\n",
       "  </tbody>\n",
       "</table>\n",
       "</div>"
      ],
      "text/plain": [
       "             Train Loss  Val Loss  Train Acc  Val Acc\n",
       "Baseline NN    0.456521  1.025482    0.95504   0.8967"
      ]
     },
     "metadata": {},
     "output_type": "display_data"
    }
   ],
   "source": [
    "trainer.train_model(\n",
    "\t'Baseline NN', BaseNN, # model\n",
    "\toptim.Adam, {'lr': 1e-3}, # optimizer\n",
    "\ttrain_data, # data\n",
    "\tearly_stopping = CustomEarlyStopping(patience = 10),\n",
    "\tverbose=True\n",
    ")\n",
    "trainer.archive('Baseline NN')\n",
    "display(trainer.history)"
   ]
  },
  {
   "cell_type": "markdown",
   "metadata": {},
   "source": [
    "<img src=\"plots/Baseline NN.png\">"
   ]
  },
  {
   "cell_type": "markdown",
   "metadata": {},
   "source": [
    "We observe:\n",
    "<ul>\n",
    "\t<li>Despite using early stopping, we can identify <strong>large amounts of overfitting</strong></li>\n",
    "\t<li>This suggests not that early stopping is bad, but using this model means we allow the model to overfit, <strong>as long as the validation is improving.</strong></li>\n",
    "\t<li>This means that training is perhaps inefficient but not terrible, as for each epoch, <strong>we learn more noise than pattern</strong></li>\n",
    "\t<li>With a patience parameter of <code>10</code>, Early Stopping has stopped our training at <strong>Epoch = 20</strong></li>\n",
    "\t<li>Surprisingly, the baseline performance is impressive for a basic model at 0.89 accuracy</strong>\n",
    "</ul>"
   ]
  },
  {
   "cell_type": "markdown",
   "metadata": {},
   "source": [
    "#### Augmentation + Baseline NN"
   ]
  },
  {
   "cell_type": "code",
   "execution_count": 59,
   "metadata": {},
   "outputs": [
    {
     "data": {
      "text/html": [
       "<div>\n",
       "<style scoped>\n",
       "    .dataframe tbody tr th:only-of-type {\n",
       "        vertical-align: middle;\n",
       "    }\n",
       "\n",
       "    .dataframe tbody tr th {\n",
       "        vertical-align: top;\n",
       "    }\n",
       "\n",
       "    .dataframe thead th {\n",
       "        text-align: right;\n",
       "    }\n",
       "</style>\n",
       "<table border=\"1\" class=\"dataframe\">\n",
       "  <thead>\n",
       "    <tr style=\"text-align: right;\">\n",
       "      <th></th>\n",
       "      <th>Train Loss</th>\n",
       "      <th>Val Loss</th>\n",
       "      <th>Train Acc</th>\n",
       "      <th>Val Acc</th>\n",
       "    </tr>\n",
       "  </thead>\n",
       "  <tbody>\n",
       "    <tr>\n",
       "      <th>Baseline NN</th>\n",
       "      <td>0.456521</td>\n",
       "      <td>1.025482</td>\n",
       "      <td>0.95504</td>\n",
       "      <td>0.8967</td>\n",
       "    </tr>\n",
       "    <tr>\n",
       "      <th>Baseline NN + Aug_Erase</th>\n",
       "      <td>0.696370</td>\n",
       "      <td>1.037000</td>\n",
       "      <td>0.92906</td>\n",
       "      <td>0.8922</td>\n",
       "    </tr>\n",
       "  </tbody>\n",
       "</table>\n",
       "</div>"
      ],
      "text/plain": [
       "                         Train Loss  Val Loss  Train Acc  Val Acc\n",
       "Baseline NN                0.456521  1.025482    0.95504   0.8967\n",
       "Baseline NN + Aug_Erase    0.696370  1.037000    0.92906   0.8922"
      ]
     },
     "metadata": {},
     "output_type": "display_data"
    }
   ],
   "source": [
    "trainer.train_model(\n",
    "\t'Baseline NN + Aug_Erase', BaseNN, # model\n",
    "\toptim.Adam, {'lr': 1e-3}, # optimizer\n",
    "\ttrain_augmented_erase, # data\n",
    "\tearly_stopping = CustomEarlyStopping(patience = 10),\n",
    "\tverbose=False\n",
    ")\n",
    "trainer.archive('Baseline NN + Aug_Erase')\n",
    "display(trainer.history)"
   ]
  },
  {
   "cell_type": "markdown",
   "metadata": {},
   "source": [
    "We observe:"
   ]
  },
  {
   "cell_type": "markdown",
   "metadata": {},
   "source": [
    "#### Convolutional Neural Networks (CNN)\n",
    "\n",
    "Convolutional Neural Networks (also known as ConvNets or CNNs) is a class of neural networks, with its most popular use case being in analyzing visual imagery (Valueva et al., 2020).\n",
    "\n",
    "We'll use the LNet architecture."
   ]
  },
  {
   "cell_type": "code",
   "execution_count": 60,
   "metadata": {},
   "outputs": [],
   "source": [
    "class LeNet(nn.Module):\n",
    "\tdef __init__(self):\n",
    "\t\tsuper(LeNet, self).__init__()\n",
    "\n",
    "\t\tself.conv1 = nn.Conv2d(1, 6, 5, padding = 2)\n",
    "\t\tself.sig1 = nn.Sigmoid()\n",
    "\t\tself.pool1 = nn.AvgPool2d(2, stride=2)\n",
    "\n",
    "\t\tself.conv2 = nn.Conv2d(6, 16, 5, padding = 0)\n",
    "\t\tself.sig2 = nn.Sigmoid()\n",
    "\t\tself.pool2 = nn.AvgPool2d(2, stride=2)\n",
    "\n",
    "\t\tself.flat = nn.Flatten(start_dim=1)\n",
    "\n",
    "\t\tself.fc1 = nn.Linear(16 * 5 * 5, 120)\n",
    "\t\tself.sig_fc1 = nn.Sigmoid()\n",
    "\n",
    "\t\tself.fc2 = nn.Linear(120, 84)\n",
    "\t\tself.sig_fc2 = nn.Sigmoid()\n",
    "\n",
    "\t\tself.fc3 = nn.Linear(84, 10)\n",
    "\n",
    "\tdef forward(self, x):\n",
    "\t\tx = self.pool1(self.sig1(self.conv1(x)))\n",
    "\t\tx = self.pool2(self.sig2(self.conv2(x)))\n",
    "\t\tx = self.flat(x)\n",
    "\t\tx = self.sig_fc1(self.fc1(x))\n",
    "\t\tx = self.sig_fc2(self.fc2(x))\n",
    "\t\tx = self.fc3(x)\n",
    "\t\treturn x"
   ]
  },
  {
   "cell_type": "code",
   "execution_count": 61,
   "metadata": {},
   "outputs": [
    {
     "name": "stdout",
     "output_type": "stream",
     "text": [
      "Epoch: 1 | Train Loss: 4.62074 \tVal Loss: 2.83612 \tTrain Acc: 0.383 \tVal Acc: 0.683\n",
      "Epoch: 2 | Train Loss: 2.44886 \tVal Loss: 2.19699 \tTrain Acc: 0.730 \tVal Acc: 0.754\n",
      "Epoch: 3 | Train Loss: 2.06238 \tVal Loss: 1.95525 \tTrain Acc: 0.773 \tVal Acc: 0.785\n",
      "Epoch: 4 | Train Loss: 1.86615 \tVal Loss: 1.80974 \tTrain Acc: 0.799 \tVal Acc: 0.812\n",
      "Epoch: 5 | Train Loss: 1.72872 \tVal Loss: 1.68213 \tTrain Acc: 0.818 \tVal Acc: 0.822\n",
      "Epoch: 6 | Train Loss: 1.62138 \tVal Loss: 1.54109 \tTrain Acc: 0.832 \tVal Acc: 0.839\n",
      "Epoch: 7 | Train Loss: 1.53386 \tVal Loss: 1.47360 \tTrain Acc: 0.841 \tVal Acc: 0.845\n",
      "Epoch: 8 | Train Loss: 1.47403 \tVal Loss: 1.43737 \tTrain Acc: 0.848 \tVal Acc: 0.849\n",
      "Epoch: 9 | Train Loss: 1.41943 \tVal Loss: 1.39682 \tTrain Acc: 0.853 \tVal Acc: 0.855\n",
      "Epoch: 10 | Train Loss: 1.37453 \tVal Loss: 1.34263 \tTrain Acc: 0.858 \tVal Acc: 0.859\n",
      "Epoch: 11 | Train Loss: 1.33526 \tVal Loss: 1.32805 \tTrain Acc: 0.861 \tVal Acc: 0.860\n",
      "Epoch: 12 | Train Loss: 1.30273 \tVal Loss: 1.27564 \tTrain Acc: 0.865 \tVal Acc: 0.868\n",
      "Epoch: 13 | Train Loss: 1.27572 \tVal Loss: 1.27184 \tTrain Acc: 0.867 \tVal Acc: 0.869\n",
      "Epoch: 14 | Train Loss: 1.24194 \tVal Loss: 1.21569 \tTrain Acc: 0.871 \tVal Acc: 0.873\n",
      "Epoch: 15 | Train Loss: 1.22388 \tVal Loss: 1.23071 \tTrain Acc: 0.873 \tVal Acc: 0.874\n",
      "Epoch: 16 | Train Loss: 1.19974 \tVal Loss: 1.20341 \tTrain Acc: 0.876 \tVal Acc: 0.876\n",
      "Epoch: 17 | Train Loss: 1.17515 \tVal Loss: 1.17362 \tTrain Acc: 0.878 \tVal Acc: 0.877\n",
      "Epoch: 18 | Train Loss: 1.15267 \tVal Loss: 1.12024 \tTrain Acc: 0.880 \tVal Acc: 0.881\n",
      "Epoch: 19 | Train Loss: 1.13561 \tVal Loss: 1.11702 \tTrain Acc: 0.882 \tVal Acc: 0.883\n",
      "Epoch: 20 | Train Loss: 1.12140 \tVal Loss: 1.11778 \tTrain Acc: 0.883 \tVal Acc: 0.884\n",
      "Epoch: 21 | Train Loss: 1.10024 \tVal Loss: 1.11890 \tTrain Acc: 0.886 \tVal Acc: 0.880\n",
      "Epoch: 22 | Train Loss: 1.08786 \tVal Loss: 1.11636 \tTrain Acc: 0.886 \tVal Acc: 0.883\n",
      "Epoch: 23 | Train Loss: 1.07094 \tVal Loss: 1.13946 \tTrain Acc: 0.889 \tVal Acc: 0.880\n",
      "Epoch: 24 | Train Loss: 1.05327 \tVal Loss: 1.07018 \tTrain Acc: 0.890 \tVal Acc: 0.888\n",
      "Epoch: 25 | Train Loss: 1.04247 \tVal Loss: 1.10008 \tTrain Acc: 0.891 \tVal Acc: 0.883\n",
      "Epoch: 26 | Train Loss: 1.02692 \tVal Loss: 1.06305 \tTrain Acc: 0.893 \tVal Acc: 0.886\n",
      "Epoch: 27 | Train Loss: 1.01801 \tVal Loss: 1.03376 \tTrain Acc: 0.894 \tVal Acc: 0.891\n",
      "Epoch: 28 | Train Loss: 1.00689 \tVal Loss: 1.02486 \tTrain Acc: 0.895 \tVal Acc: 0.890\n",
      "Epoch: 29 | Train Loss: 0.99220 \tVal Loss: 1.04515 \tTrain Acc: 0.897 \tVal Acc: 0.887\n",
      "Epoch: 30 | Train Loss: 0.98052 \tVal Loss: 1.01859 \tTrain Acc: 0.898 \tVal Acc: 0.892\n",
      "Epoch: 31 | Train Loss: 0.96883 \tVal Loss: 1.00742 \tTrain Acc: 0.899 \tVal Acc: 0.893\n",
      "Epoch: 32 | Train Loss: 0.96008 \tVal Loss: 1.03788 \tTrain Acc: 0.901 \tVal Acc: 0.889\n",
      "Epoch: 33 | Train Loss: 0.95047 \tVal Loss: 0.98233 \tTrain Acc: 0.900 \tVal Acc: 0.895\n",
      "Epoch: 34 | Train Loss: 0.94089 \tVal Loss: 0.99481 \tTrain Acc: 0.903 \tVal Acc: 0.897\n",
      "Epoch: 35 | Train Loss: 0.92414 \tVal Loss: 0.97486 \tTrain Acc: 0.904 \tVal Acc: 0.896\n",
      "Epoch: 36 | Train Loss: 0.91596 \tVal Loss: 1.04113 \tTrain Acc: 0.905 \tVal Acc: 0.890\n",
      "Epoch: 37 | Train Loss: 0.90632 \tVal Loss: 0.98121 \tTrain Acc: 0.905 \tVal Acc: 0.896\n",
      "Epoch: 38 | Train Loss: 0.90213 \tVal Loss: 0.97249 \tTrain Acc: 0.907 \tVal Acc: 0.896\n",
      "Epoch: 39 | Train Loss: 0.89203 \tVal Loss: 0.96918 \tTrain Acc: 0.908 \tVal Acc: 0.896\n",
      "Epoch: 40 | Train Loss: 0.87938 \tVal Loss: 0.96231 \tTrain Acc: 0.909 \tVal Acc: 0.898\n",
      "Epoch: 41 | Train Loss: 0.87664 \tVal Loss: 0.97245 \tTrain Acc: 0.909 \tVal Acc: 0.894\n",
      "Epoch: 42 | Train Loss: 0.86397 \tVal Loss: 0.97052 \tTrain Acc: 0.911 \tVal Acc: 0.896\n",
      "Epoch: 43 | Train Loss: 0.85765 \tVal Loss: 0.95146 \tTrain Acc: 0.912 \tVal Acc: 0.898\n",
      "Epoch: 44 | Train Loss: 0.84843 \tVal Loss: 0.95676 \tTrain Acc: 0.912 \tVal Acc: 0.899\n",
      "Epoch: 45 | Train Loss: 0.83833 \tVal Loss: 0.93289 \tTrain Acc: 0.914 \tVal Acc: 0.900\n",
      "Epoch: 46 | Train Loss: 0.83795 \tVal Loss: 0.97261 \tTrain Acc: 0.914 \tVal Acc: 0.899\n",
      "Epoch: 47 | Train Loss: 0.83070 \tVal Loss: 0.95499 \tTrain Acc: 0.915 \tVal Acc: 0.898\n",
      "Epoch: 48 | Train Loss: 0.82095 \tVal Loss: 1.00481 \tTrain Acc: 0.916 \tVal Acc: 0.895\n",
      "Epoch: 49 | Train Loss: 0.81568 \tVal Loss: 0.92184 \tTrain Acc: 0.916 \tVal Acc: 0.902\n",
      "Epoch: 50 | Train Loss: 0.80463 \tVal Loss: 0.93010 \tTrain Acc: 0.918 \tVal Acc: 0.902\n",
      "Epoch: 51 | Train Loss: 0.80184 \tVal Loss: 0.93470 \tTrain Acc: 0.918 \tVal Acc: 0.901\n",
      "Epoch: 52 | Train Loss: 0.79420 \tVal Loss: 0.92131 \tTrain Acc: 0.919 \tVal Acc: 0.903\n",
      "Epoch: 53 | Train Loss: 0.78957 \tVal Loss: 0.92000 \tTrain Acc: 0.919 \tVal Acc: 0.902\n",
      "Epoch: 54 | Train Loss: 0.78141 \tVal Loss: 0.95627 \tTrain Acc: 0.920 \tVal Acc: 0.897\n",
      "Epoch: 55 | Train Loss: 0.77275 \tVal Loss: 0.90986 \tTrain Acc: 0.921 \tVal Acc: 0.905\n",
      "Epoch: 56 | Train Loss: 0.76377 \tVal Loss: 0.99595 \tTrain Acc: 0.922 \tVal Acc: 0.894\n",
      "Epoch: 57 | Train Loss: 0.75811 \tVal Loss: 0.93129 \tTrain Acc: 0.923 \tVal Acc: 0.901\n",
      "Epoch: 58 | Train Loss: 0.75264 \tVal Loss: 0.89835 \tTrain Acc: 0.924 \tVal Acc: 0.905\n",
      "Epoch: 59 | Train Loss: 0.74371 \tVal Loss: 0.91395 \tTrain Acc: 0.924 \tVal Acc: 0.904\n",
      "Epoch: 60 | Train Loss: 0.73786 \tVal Loss: 0.90825 \tTrain Acc: 0.925 \tVal Acc: 0.903\n",
      "Epoch: 61 | Train Loss: 0.73310 \tVal Loss: 0.88982 \tTrain Acc: 0.926 \tVal Acc: 0.906\n",
      "Epoch: 62 | Train Loss: 0.72187 \tVal Loss: 0.90577 \tTrain Acc: 0.927 \tVal Acc: 0.904\n",
      "Epoch: 63 | Train Loss: 0.71703 \tVal Loss: 0.93131 \tTrain Acc: 0.928 \tVal Acc: 0.900\n",
      "Epoch: 64 | Train Loss: 0.71464 \tVal Loss: 0.90116 \tTrain Acc: 0.928 \tVal Acc: 0.905\n",
      "Epoch: 65 | Train Loss: 0.71412 \tVal Loss: 0.89022 \tTrain Acc: 0.928 \tVal Acc: 0.907\n",
      "Epoch: 66 | Train Loss: 0.70556 \tVal Loss: 0.91305 \tTrain Acc: 0.929 \tVal Acc: 0.903\n",
      "Epoch: 67 | Train Loss: 0.69509 \tVal Loss: 0.92259 \tTrain Acc: 0.930 \tVal Acc: 0.901\n",
      "Epoch: 68 | Train Loss: 0.69216 \tVal Loss: 0.88962 \tTrain Acc: 0.930 \tVal Acc: 0.906\n",
      "Epoch: 69 | Train Loss: 0.68889 \tVal Loss: 0.90345 \tTrain Acc: 0.931 \tVal Acc: 0.906\n",
      "Epoch: 70 | Train Loss: 0.68003 \tVal Loss: 0.95598 \tTrain Acc: 0.932 \tVal Acc: 0.901\n",
      "Epoch: 71 | Train Loss: 0.68053 \tVal Loss: 0.88208 \tTrain Acc: 0.932 \tVal Acc: 0.908\n",
      "Epoch: 72 | Train Loss: 0.67102 \tVal Loss: 0.90137 \tTrain Acc: 0.933 \tVal Acc: 0.904\n",
      "Epoch: 73 | Train Loss: 0.66276 \tVal Loss: 0.91463 \tTrain Acc: 0.934 \tVal Acc: 0.905\n",
      "Epoch: 74 | Train Loss: 0.66299 \tVal Loss: 0.88776 \tTrain Acc: 0.934 \tVal Acc: 0.908\n",
      "Epoch: 75 | Train Loss: 0.65336 \tVal Loss: 0.95020 \tTrain Acc: 0.935 \tVal Acc: 0.900\n",
      "Epoch: 76 | Train Loss: 0.65212 \tVal Loss: 0.89882 \tTrain Acc: 0.936 \tVal Acc: 0.906\n",
      "Epoch: 77 | Train Loss: 0.64280 \tVal Loss: 0.89839 \tTrain Acc: 0.937 \tVal Acc: 0.906\n",
      "Epoch: 78 | Train Loss: 0.63707 \tVal Loss: 0.89888 \tTrain Acc: 0.937 \tVal Acc: 0.905\n",
      "Epoch: 79 | Train Loss: 0.63512 \tVal Loss: 0.88438 \tTrain Acc: 0.937 \tVal Acc: 0.910\n",
      "Epoch: 80 | Train Loss: 0.63139 \tVal Loss: 0.87922 \tTrain Acc: 0.938 \tVal Acc: 0.909\n",
      "Epoch: 81 | Train Loss: 0.62591 \tVal Loss: 0.87553 \tTrain Acc: 0.938 \tVal Acc: 0.908\n",
      "Epoch: 82 | Train Loss: 0.61942 \tVal Loss: 0.90090 \tTrain Acc: 0.939 \tVal Acc: 0.905\n",
      "Epoch: 83 | Train Loss: 0.61378 \tVal Loss: 0.90855 \tTrain Acc: 0.940 \tVal Acc: 0.906\n",
      "Epoch: 84 | Train Loss: 0.61184 \tVal Loss: 0.90009 \tTrain Acc: 0.941 \tVal Acc: 0.905\n",
      "Epoch: 85 | Train Loss: 0.60698 \tVal Loss: 0.89171 \tTrain Acc: 0.941 \tVal Acc: 0.908\n",
      "Epoch: 86 | Train Loss: 0.59848 \tVal Loss: 0.88505 \tTrain Acc: 0.941 \tVal Acc: 0.908\n",
      "Epoch: 87 | Train Loss: 0.59546 \tVal Loss: 0.89770 \tTrain Acc: 0.942 \tVal Acc: 0.908\n",
      "Epoch: 88 | Train Loss: 0.59262 \tVal Loss: 0.90176 \tTrain Acc: 0.942 \tVal Acc: 0.907\n",
      "Epoch: 89 | Train Loss: 0.58669 \tVal Loss: 0.91088 \tTrain Acc: 0.943 \tVal Acc: 0.905\n",
      "Epoch: 90 | Train Loss: 0.57907 \tVal Loss: 0.95695 \tTrain Acc: 0.943 \tVal Acc: 0.903\n",
      "Epoch: 91 | Train Loss: 0.57571 \tVal Loss: 0.92594 \tTrain Acc: 0.945 \tVal Acc: 0.903\n",
      "Stopping due to early stopping | patience = 10, extra_train = 0\n"
     ]
    },
    {
     "data": {
      "text/html": [
       "<div>\n",
       "<style scoped>\n",
       "    .dataframe tbody tr th:only-of-type {\n",
       "        vertical-align: middle;\n",
       "    }\n",
       "\n",
       "    .dataframe tbody tr th {\n",
       "        vertical-align: top;\n",
       "    }\n",
       "\n",
       "    .dataframe thead th {\n",
       "        text-align: right;\n",
       "    }\n",
       "</style>\n",
       "<table border=\"1\" class=\"dataframe\">\n",
       "  <thead>\n",
       "    <tr style=\"text-align: right;\">\n",
       "      <th></th>\n",
       "      <th>Train Loss</th>\n",
       "      <th>Val Loss</th>\n",
       "      <th>Train Acc</th>\n",
       "      <th>Val Acc</th>\n",
       "    </tr>\n",
       "  </thead>\n",
       "  <tbody>\n",
       "    <tr>\n",
       "      <th>Baseline NN</th>\n",
       "      <td>0.456521</td>\n",
       "      <td>1.025482</td>\n",
       "      <td>0.95504</td>\n",
       "      <td>0.8967</td>\n",
       "    </tr>\n",
       "    <tr>\n",
       "      <th>Baseline NN + Aug_Erase</th>\n",
       "      <td>0.696370</td>\n",
       "      <td>1.037000</td>\n",
       "      <td>0.92906</td>\n",
       "      <td>0.8922</td>\n",
       "    </tr>\n",
       "    <tr>\n",
       "      <th>LeNet</th>\n",
       "      <td>0.625906</td>\n",
       "      <td>0.875531</td>\n",
       "      <td>0.93792</td>\n",
       "      <td>0.9080</td>\n",
       "    </tr>\n",
       "  </tbody>\n",
       "</table>\n",
       "</div>"
      ],
      "text/plain": [
       "                         Train Loss  Val Loss  Train Acc  Val Acc\n",
       "Baseline NN                0.456521  1.025482    0.95504   0.8967\n",
       "Baseline NN + Aug_Erase    0.696370  1.037000    0.92906   0.8922\n",
       "LeNet                      0.625906  0.875531    0.93792   0.9080"
      ]
     },
     "metadata": {},
     "output_type": "display_data"
    }
   ],
   "source": [
    "trainer.train_model(\n",
    "\t'LeNet', LeNet, # model\n",
    "\toptim.Adam, {'lr': 1e-3, 'weight_decay': 1e-5}, # optimizer\n",
    "\ttrain_data, # data\n",
    "\tearly_stopping = CustomEarlyStopping(patience = 10),\n",
    "\tverbose=True\n",
    ")\n",
    "trainer.archive('LeNet')\n",
    "display(trainer.history)\n"
   ]
  },
  {
   "cell_type": "markdown",
   "metadata": {},
   "source": [
    "#### Augmentation + CNN"
   ]
  },
  {
   "cell_type": "code",
   "execution_count": 63,
   "metadata": {},
   "outputs": [
    {
     "name": "stdout",
     "output_type": "stream",
     "text": [
      "Epoch: 1 | Train Loss: 4.30508 \tVal Loss: 2.75997 \tTrain Acc: 0.439 \tVal Acc: 0.714\n",
      "Epoch: 2 | Train Loss: 2.39405 \tVal Loss: 2.13803 \tTrain Acc: 0.737 \tVal Acc: 0.761\n",
      "Epoch: 3 | Train Loss: 2.04388 \tVal Loss: 1.90449 \tTrain Acc: 0.776 \tVal Acc: 0.795\n",
      "Epoch: 4 | Train Loss: 1.85376 \tVal Loss: 1.74580 \tTrain Acc: 0.801 \tVal Acc: 0.808\n",
      "Epoch: 5 | Train Loss: 1.72370 \tVal Loss: 1.69137 \tTrain Acc: 0.817 \tVal Acc: 0.820\n",
      "Epoch: 6 | Train Loss: 1.63304 \tVal Loss: 1.59165 \tTrain Acc: 0.828 \tVal Acc: 0.830\n",
      "Epoch: 7 | Train Loss: 1.54890 \tVal Loss: 1.50688 \tTrain Acc: 0.838 \tVal Acc: 0.842\n",
      "Epoch: 8 | Train Loss: 1.48808 \tVal Loss: 1.44824 \tTrain Acc: 0.844 \tVal Acc: 0.847\n",
      "Epoch: 9 | Train Loss: 1.43641 \tVal Loss: 1.40276 \tTrain Acc: 0.850 \tVal Acc: 0.852\n",
      "Epoch: 10 | Train Loss: 1.38355 \tVal Loss: 1.34401 \tTrain Acc: 0.857 \tVal Acc: 0.859\n",
      "Epoch: 11 | Train Loss: 1.34013 \tVal Loss: 1.30356 \tTrain Acc: 0.860 \tVal Acc: 0.863\n",
      "Epoch: 12 | Train Loss: 1.30382 \tVal Loss: 1.28924 \tTrain Acc: 0.865 \tVal Acc: 0.863\n",
      "Epoch: 13 | Train Loss: 1.27238 \tVal Loss: 1.29147 \tTrain Acc: 0.868 \tVal Acc: 0.863\n",
      "Epoch: 14 | Train Loss: 1.24024 \tVal Loss: 1.22157 \tTrain Acc: 0.872 \tVal Acc: 0.872\n",
      "Epoch: 15 | Train Loss: 1.21259 \tVal Loss: 1.24033 \tTrain Acc: 0.874 \tVal Acc: 0.868\n",
      "Epoch: 16 | Train Loss: 1.19098 \tVal Loss: 1.20995 \tTrain Acc: 0.876 \tVal Acc: 0.873\n",
      "Epoch: 17 | Train Loss: 1.17130 \tVal Loss: 1.18617 \tTrain Acc: 0.879 \tVal Acc: 0.877\n",
      "Epoch: 18 | Train Loss: 1.14691 \tVal Loss: 1.15766 \tTrain Acc: 0.881 \tVal Acc: 0.877\n",
      "Epoch: 19 | Train Loss: 1.13297 \tVal Loss: 1.16392 \tTrain Acc: 0.882 \tVal Acc: 0.878\n",
      "Epoch: 20 | Train Loss: 1.11339 \tVal Loss: 1.12021 \tTrain Acc: 0.884 \tVal Acc: 0.881\n",
      "Epoch: 21 | Train Loss: 1.09349 \tVal Loss: 1.16398 \tTrain Acc: 0.886 \tVal Acc: 0.879\n",
      "Epoch: 22 | Train Loss: 1.08428 \tVal Loss: 1.11167 \tTrain Acc: 0.887 \tVal Acc: 0.880\n",
      "Epoch: 23 | Train Loss: 1.06274 \tVal Loss: 1.09757 \tTrain Acc: 0.889 \tVal Acc: 0.884\n",
      "Epoch: 24 | Train Loss: 1.04644 \tVal Loss: 1.07447 \tTrain Acc: 0.892 \tVal Acc: 0.886\n",
      "Epoch: 25 | Train Loss: 1.03533 \tVal Loss: 1.09213 \tTrain Acc: 0.892 \tVal Acc: 0.884\n",
      "Epoch: 26 | Train Loss: 1.02218 \tVal Loss: 1.05427 \tTrain Acc: 0.893 \tVal Acc: 0.889\n",
      "Epoch: 27 | Train Loss: 1.00727 \tVal Loss: 1.04274 \tTrain Acc: 0.896 \tVal Acc: 0.887\n",
      "Epoch: 28 | Train Loss: 1.00084 \tVal Loss: 1.02185 \tTrain Acc: 0.895 \tVal Acc: 0.891\n",
      "Epoch: 29 | Train Loss: 0.98576 \tVal Loss: 1.03731 \tTrain Acc: 0.897 \tVal Acc: 0.889\n",
      "Epoch: 30 | Train Loss: 0.96840 \tVal Loss: 1.04419 \tTrain Acc: 0.899 \tVal Acc: 0.888\n",
      "Epoch: 31 | Train Loss: 0.95698 \tVal Loss: 1.03408 \tTrain Acc: 0.900 \tVal Acc: 0.889\n",
      "Epoch: 32 | Train Loss: 0.94817 \tVal Loss: 0.98457 \tTrain Acc: 0.901 \tVal Acc: 0.894\n",
      "Epoch: 33 | Train Loss: 0.93617 \tVal Loss: 1.00483 \tTrain Acc: 0.903 \tVal Acc: 0.893\n",
      "Epoch: 34 | Train Loss: 0.92776 \tVal Loss: 0.98600 \tTrain Acc: 0.904 \tVal Acc: 0.892\n",
      "Epoch: 35 | Train Loss: 0.91774 \tVal Loss: 0.98604 \tTrain Acc: 0.905 \tVal Acc: 0.893\n",
      "Epoch: 36 | Train Loss: 0.90262 \tVal Loss: 1.00135 \tTrain Acc: 0.906 \tVal Acc: 0.893\n",
      "Epoch: 37 | Train Loss: 0.89644 \tVal Loss: 0.96700 \tTrain Acc: 0.906 \tVal Acc: 0.898\n",
      "Epoch: 38 | Train Loss: 0.87998 \tVal Loss: 0.96473 \tTrain Acc: 0.908 \tVal Acc: 0.896\n",
      "Epoch: 39 | Train Loss: 0.87312 \tVal Loss: 0.94935 \tTrain Acc: 0.910 \tVal Acc: 0.898\n",
      "Epoch: 40 | Train Loss: 0.86955 \tVal Loss: 1.01108 \tTrain Acc: 0.911 \tVal Acc: 0.892\n",
      "Epoch: 41 | Train Loss: 0.85568 \tVal Loss: 0.95698 \tTrain Acc: 0.912 \tVal Acc: 0.898\n",
      "Epoch: 42 | Train Loss: 0.84636 \tVal Loss: 0.92608 \tTrain Acc: 0.913 \tVal Acc: 0.899\n",
      "Epoch: 43 | Train Loss: 0.84168 \tVal Loss: 0.96904 \tTrain Acc: 0.914 \tVal Acc: 0.896\n",
      "Epoch: 44 | Train Loss: 0.83002 \tVal Loss: 0.96818 \tTrain Acc: 0.915 \tVal Acc: 0.895\n",
      "Epoch: 45 | Train Loss: 0.82713 \tVal Loss: 0.93556 \tTrain Acc: 0.914 \tVal Acc: 0.900\n",
      "Epoch: 46 | Train Loss: 0.81864 \tVal Loss: 0.91500 \tTrain Acc: 0.915 \tVal Acc: 0.901\n",
      "Epoch: 47 | Train Loss: 0.80430 \tVal Loss: 0.91988 \tTrain Acc: 0.917 \tVal Acc: 0.900\n",
      "Epoch: 48 | Train Loss: 0.80332 \tVal Loss: 0.96061 \tTrain Acc: 0.917 \tVal Acc: 0.897\n",
      "Epoch: 49 | Train Loss: 0.79993 \tVal Loss: 0.92541 \tTrain Acc: 0.918 \tVal Acc: 0.900\n",
      "Epoch: 50 | Train Loss: 0.78228 \tVal Loss: 0.93126 \tTrain Acc: 0.920 \tVal Acc: 0.899\n",
      "Epoch: 51 | Train Loss: 0.78049 \tVal Loss: 0.90537 \tTrain Acc: 0.919 \tVal Acc: 0.903\n",
      "Epoch: 52 | Train Loss: 0.77347 \tVal Loss: 0.89251 \tTrain Acc: 0.921 \tVal Acc: 0.903\n",
      "Epoch: 53 | Train Loss: 0.76438 \tVal Loss: 0.89786 \tTrain Acc: 0.922 \tVal Acc: 0.903\n",
      "Epoch: 54 | Train Loss: 0.75505 \tVal Loss: 0.89379 \tTrain Acc: 0.923 \tVal Acc: 0.904\n",
      "Epoch: 55 | Train Loss: 0.75819 \tVal Loss: 0.89434 \tTrain Acc: 0.922 \tVal Acc: 0.904\n",
      "Epoch: 56 | Train Loss: 0.74376 \tVal Loss: 0.91563 \tTrain Acc: 0.925 \tVal Acc: 0.902\n",
      "Epoch: 57 | Train Loss: 0.73454 \tVal Loss: 0.89360 \tTrain Acc: 0.925 \tVal Acc: 0.904\n",
      "Epoch: 58 | Train Loss: 0.73149 \tVal Loss: 0.88420 \tTrain Acc: 0.926 \tVal Acc: 0.905\n",
      "Epoch: 59 | Train Loss: 0.72767 \tVal Loss: 0.91040 \tTrain Acc: 0.926 \tVal Acc: 0.903\n",
      "Epoch: 60 | Train Loss: 0.72103 \tVal Loss: 0.92399 \tTrain Acc: 0.926 \tVal Acc: 0.901\n",
      "Epoch: 61 | Train Loss: 0.71577 \tVal Loss: 0.88049 \tTrain Acc: 0.927 \tVal Acc: 0.905\n",
      "Epoch: 62 | Train Loss: 0.70693 \tVal Loss: 0.89392 \tTrain Acc: 0.929 \tVal Acc: 0.905\n",
      "Epoch: 63 | Train Loss: 0.69892 \tVal Loss: 0.88905 \tTrain Acc: 0.930 \tVal Acc: 0.905\n",
      "Epoch: 64 | Train Loss: 0.69784 \tVal Loss: 0.93251 \tTrain Acc: 0.930 \tVal Acc: 0.902\n",
      "Epoch: 65 | Train Loss: 0.69069 \tVal Loss: 0.87840 \tTrain Acc: 0.930 \tVal Acc: 0.907\n",
      "Epoch: 66 | Train Loss: 0.68917 \tVal Loss: 0.87016 \tTrain Acc: 0.931 \tVal Acc: 0.906\n",
      "Epoch: 67 | Train Loss: 0.67729 \tVal Loss: 0.89115 \tTrain Acc: 0.932 \tVal Acc: 0.907\n",
      "Epoch: 68 | Train Loss: 0.66800 \tVal Loss: 0.90666 \tTrain Acc: 0.932 \tVal Acc: 0.905\n",
      "Epoch: 69 | Train Loss: 0.66987 \tVal Loss: 0.88509 \tTrain Acc: 0.933 \tVal Acc: 0.907\n",
      "Epoch: 70 | Train Loss: 0.66753 \tVal Loss: 0.87238 \tTrain Acc: 0.932 \tVal Acc: 0.905\n",
      "Epoch: 71 | Train Loss: 0.65377 \tVal Loss: 0.92716 \tTrain Acc: 0.935 \tVal Acc: 0.901\n",
      "Epoch: 72 | Train Loss: 0.65615 \tVal Loss: 0.89922 \tTrain Acc: 0.935 \tVal Acc: 0.904\n",
      "Epoch: 73 | Train Loss: 0.64500 \tVal Loss: 0.87064 \tTrain Acc: 0.936 \tVal Acc: 0.906\n",
      "Epoch: 74 | Train Loss: 0.63993 \tVal Loss: 0.86412 \tTrain Acc: 0.938 \tVal Acc: 0.910\n",
      "Epoch: 75 | Train Loss: 0.63863 \tVal Loss: 0.87193 \tTrain Acc: 0.937 \tVal Acc: 0.909\n",
      "Epoch: 76 | Train Loss: 0.63139 \tVal Loss: 0.93970 \tTrain Acc: 0.938 \tVal Acc: 0.901\n",
      "Epoch: 77 | Train Loss: 0.62435 \tVal Loss: 0.89108 \tTrain Acc: 0.939 \tVal Acc: 0.906\n",
      "Epoch: 78 | Train Loss: 0.62331 \tVal Loss: 0.88396 \tTrain Acc: 0.938 \tVal Acc: 0.907\n",
      "Epoch: 79 | Train Loss: 0.61721 \tVal Loss: 0.88224 \tTrain Acc: 0.939 \tVal Acc: 0.910\n",
      "Epoch: 80 | Train Loss: 0.61110 \tVal Loss: 0.88408 \tTrain Acc: 0.941 \tVal Acc: 0.909\n",
      "Epoch: 81 | Train Loss: 0.60425 \tVal Loss: 0.88167 \tTrain Acc: 0.941 \tVal Acc: 0.909\n",
      "Epoch: 82 | Train Loss: 0.60025 \tVal Loss: 0.85386 \tTrain Acc: 0.941 \tVal Acc: 0.909\n",
      "Epoch: 83 | Train Loss: 0.59432 \tVal Loss: 0.87056 \tTrain Acc: 0.942 \tVal Acc: 0.911\n",
      "Epoch: 84 | Train Loss: 0.58804 \tVal Loss: 0.85979 \tTrain Acc: 0.942 \tVal Acc: 0.911\n",
      "Epoch: 85 | Train Loss: 0.58596 \tVal Loss: 0.87880 \tTrain Acc: 0.943 \tVal Acc: 0.910\n",
      "Epoch: 86 | Train Loss: 0.57946 \tVal Loss: 0.89736 \tTrain Acc: 0.944 \tVal Acc: 0.908\n",
      "Epoch: 87 | Train Loss: 0.57868 \tVal Loss: 0.89666 \tTrain Acc: 0.945 \tVal Acc: 0.906\n",
      "Epoch: 88 | Train Loss: 0.57172 \tVal Loss: 0.85549 \tTrain Acc: 0.945 \tVal Acc: 0.909\n",
      "Epoch: 89 | Train Loss: 0.56591 \tVal Loss: 0.85445 \tTrain Acc: 0.946 \tVal Acc: 0.909\n",
      "Epoch: 90 | Train Loss: 0.56523 \tVal Loss: 0.84483 \tTrain Acc: 0.945 \tVal Acc: 0.912\n",
      "Epoch: 91 | Train Loss: 0.56049 \tVal Loss: 0.86747 \tTrain Acc: 0.946 \tVal Acc: 0.910\n",
      "Epoch: 92 | Train Loss: 0.55382 \tVal Loss: 0.85605 \tTrain Acc: 0.947 \tVal Acc: 0.912\n",
      "Epoch: 93 | Train Loss: 0.54585 \tVal Loss: 0.85139 \tTrain Acc: 0.948 \tVal Acc: 0.912\n",
      "Epoch: 94 | Train Loss: 0.54386 \tVal Loss: 0.86773 \tTrain Acc: 0.947 \tVal Acc: 0.911\n",
      "Epoch: 95 | Train Loss: 0.54311 \tVal Loss: 0.88589 \tTrain Acc: 0.949 \tVal Acc: 0.909\n",
      "Epoch: 96 | Train Loss: 0.54106 \tVal Loss: 0.86023 \tTrain Acc: 0.948 \tVal Acc: 0.911\n",
      "Epoch: 97 | Train Loss: 0.53262 \tVal Loss: 0.85876 \tTrain Acc: 0.949 \tVal Acc: 0.913\n",
      "Epoch: 98 | Train Loss: 0.52716 \tVal Loss: 0.88000 \tTrain Acc: 0.951 \tVal Acc: 0.910\n",
      "Epoch: 99 | Train Loss: 0.52421 \tVal Loss: 0.87088 \tTrain Acc: 0.951 \tVal Acc: 0.912\n",
      "Epoch: 100 | Train Loss: 0.51641 \tVal Loss: 0.87511 \tTrain Acc: 0.951 \tVal Acc: 0.907\n",
      "Epoch: 101 | Train Loss: 0.51449 \tVal Loss: 0.85128 \tTrain Acc: 0.952 \tVal Acc: 0.912\n",
      "Epoch: 102 | Train Loss: 0.51047 \tVal Loss: 0.86827 \tTrain Acc: 0.951 \tVal Acc: 0.911\n",
      "Epoch: 103 | Train Loss: 0.50923 \tVal Loss: 0.87855 \tTrain Acc: 0.952 \tVal Acc: 0.908\n",
      "Epoch: 104 | Train Loss: 0.50614 \tVal Loss: 0.85542 \tTrain Acc: 0.952 \tVal Acc: 0.912\n",
      "Epoch: 105 | Train Loss: 0.49965 \tVal Loss: 0.85569 \tTrain Acc: 0.953 \tVal Acc: 0.912\n",
      "Epoch: 106 | Train Loss: 0.49843 \tVal Loss: 0.85579 \tTrain Acc: 0.953 \tVal Acc: 0.913\n",
      "Epoch: 107 | Train Loss: 0.48864 \tVal Loss: 0.86447 \tTrain Acc: 0.954 \tVal Acc: 0.913\n",
      "Epoch: 108 | Train Loss: 0.48348 \tVal Loss: 0.87425 \tTrain Acc: 0.956 \tVal Acc: 0.910\n",
      "Epoch: 109 | Train Loss: 0.48079 \tVal Loss: 0.88367 \tTrain Acc: 0.955 \tVal Acc: 0.910\n",
      "Epoch: 110 | Train Loss: 0.47988 \tVal Loss: 0.86051 \tTrain Acc: 0.955 \tVal Acc: 0.912\n",
      "Epoch: 111 | Train Loss: 0.47486 \tVal Loss: 0.88430 \tTrain Acc: 0.956 \tVal Acc: 0.913\n",
      "Epoch: 112 | Train Loss: 0.47078 \tVal Loss: 0.89801 \tTrain Acc: 0.957 \tVal Acc: 0.910\n",
      "Epoch: 113 | Train Loss: 0.46805 \tVal Loss: 0.87723 \tTrain Acc: 0.957 \tVal Acc: 0.912\n",
      "Epoch: 114 | Train Loss: 0.46135 \tVal Loss: 0.87726 \tTrain Acc: 0.958 \tVal Acc: 0.911\n",
      "Epoch: 115 | Train Loss: 0.45859 \tVal Loss: 0.88762 \tTrain Acc: 0.958 \tVal Acc: 0.912\n",
      "Epoch: 116 | Train Loss: 0.45659 \tVal Loss: 0.88174 \tTrain Acc: 0.958 \tVal Acc: 0.910\n",
      "Epoch: 117 | Train Loss: 0.44981 \tVal Loss: 0.88865 \tTrain Acc: 0.959 \tVal Acc: 0.911\n",
      "Epoch: 118 | Train Loss: 0.44514 \tVal Loss: 0.89082 \tTrain Acc: 0.960 \tVal Acc: 0.910\n",
      "Epoch: 119 | Train Loss: 0.44277 \tVal Loss: 0.87684 \tTrain Acc: 0.960 \tVal Acc: 0.911\n",
      "Epoch: 120 | Train Loss: 0.44004 \tVal Loss: 0.88662 \tTrain Acc: 0.961 \tVal Acc: 0.911\n",
      "Epoch: 121 | Train Loss: 0.43694 \tVal Loss: 0.86913 \tTrain Acc: 0.961 \tVal Acc: 0.914\n",
      "Epoch: 122 | Train Loss: 0.42908 \tVal Loss: 0.88969 \tTrain Acc: 0.962 \tVal Acc: 0.912\n",
      "Epoch: 123 | Train Loss: 0.42841 \tVal Loss: 0.87850 \tTrain Acc: 0.962 \tVal Acc: 0.913\n",
      "Epoch: 124 | Train Loss: 0.42255 \tVal Loss: 0.86324 \tTrain Acc: 0.963 \tVal Acc: 0.913\n",
      "Epoch: 125 | Train Loss: 0.42323 \tVal Loss: 0.88570 \tTrain Acc: 0.962 \tVal Acc: 0.911\n",
      "Epoch: 126 | Train Loss: 0.41684 \tVal Loss: 0.87443 \tTrain Acc: 0.963 \tVal Acc: 0.911\n",
      "Epoch: 127 | Train Loss: 0.41351 \tVal Loss: 0.88392 \tTrain Acc: 0.963 \tVal Acc: 0.913\n",
      "Epoch: 128 | Train Loss: 0.40834 \tVal Loss: 0.89542 \tTrain Acc: 0.964 \tVal Acc: 0.910\n",
      "Epoch: 129 | Train Loss: 0.40828 \tVal Loss: 0.89018 \tTrain Acc: 0.964 \tVal Acc: 0.910\n",
      "Epoch: 130 | Train Loss: 0.40263 \tVal Loss: 0.87643 \tTrain Acc: 0.965 \tVal Acc: 0.911\n",
      "Epoch: 131 | Train Loss: 0.40100 \tVal Loss: 0.89455 \tTrain Acc: 0.965 \tVal Acc: 0.911\n",
      "Stopping due to early stopping | patience = 10, extra_train = 0\n"
     ]
    },
    {
     "data": {
      "text/html": [
       "<div>\n",
       "<style scoped>\n",
       "    .dataframe tbody tr th:only-of-type {\n",
       "        vertical-align: middle;\n",
       "    }\n",
       "\n",
       "    .dataframe tbody tr th {\n",
       "        vertical-align: top;\n",
       "    }\n",
       "\n",
       "    .dataframe thead th {\n",
       "        text-align: right;\n",
       "    }\n",
       "</style>\n",
       "<table border=\"1\" class=\"dataframe\">\n",
       "  <thead>\n",
       "    <tr style=\"text-align: right;\">\n",
       "      <th></th>\n",
       "      <th>Train Loss</th>\n",
       "      <th>Val Loss</th>\n",
       "      <th>Train Acc</th>\n",
       "      <th>Val Acc</th>\n",
       "    </tr>\n",
       "  </thead>\n",
       "  <tbody>\n",
       "    <tr>\n",
       "      <th>Baseline NN</th>\n",
       "      <td>0.456521</td>\n",
       "      <td>1.025482</td>\n",
       "      <td>0.95504</td>\n",
       "      <td>0.8967</td>\n",
       "    </tr>\n",
       "    <tr>\n",
       "      <th>Baseline NN + Aug_Erase</th>\n",
       "      <td>0.696370</td>\n",
       "      <td>1.037000</td>\n",
       "      <td>0.92906</td>\n",
       "      <td>0.8922</td>\n",
       "    </tr>\n",
       "    <tr>\n",
       "      <th>LeNet</th>\n",
       "      <td>0.625906</td>\n",
       "      <td>0.875531</td>\n",
       "      <td>0.93792</td>\n",
       "      <td>0.9080</td>\n",
       "    </tr>\n",
       "    <tr>\n",
       "      <th>LeNet + Aug_Erase</th>\n",
       "      <td>0.436945</td>\n",
       "      <td>0.869134</td>\n",
       "      <td>0.96060</td>\n",
       "      <td>0.9143</td>\n",
       "    </tr>\n",
       "  </tbody>\n",
       "</table>\n",
       "</div>"
      ],
      "text/plain": [
       "                         Train Loss  Val Loss  Train Acc  Val Acc\n",
       "Baseline NN                0.456521  1.025482    0.95504   0.8967\n",
       "Baseline NN + Aug_Erase    0.696370  1.037000    0.92906   0.8922\n",
       "LeNet                      0.625906  0.875531    0.93792   0.9080\n",
       "LeNet + Aug_Erase          0.436945  0.869134    0.96060   0.9143"
      ]
     },
     "metadata": {},
     "output_type": "display_data"
    }
   ],
   "source": [
    "trainer.train_model(\n",
    "\t'LeNet + Aug_Erase', LeNet, # model\n",
    "\toptim.Adam, {'lr': 1e-3, 'weight_decay': 1e-5}, # optimizer\n",
    "\ttrain_augmented_erase, # data\n",
    "\tearly_stopping = CustomEarlyStopping(patience = 10),\n",
    "\tverbose=True\n",
    ")\n",
    "trainer.archive('LeNet + Aug_Erase')\n",
    "display(trainer.history)"
   ]
  },
  {
   "cell_type": "markdown",
   "metadata": {},
   "source": [
    "We observe:"
   ]
  },
  {
   "cell_type": "markdown",
   "metadata": {},
   "source": [
    "#### ResNet"
   ]
  },
  {
   "cell_type": "code",
   "execution_count": 138,
   "metadata": {},
   "outputs": [],
   "source": [
    "def relu_bn_conv(in_channels, out_channels, **kwargs):\n",
    "\treturn nn.Sequential(\n",
    "\t\tnn.Conv2d(in_channels, out_channels, **kwargs),\n",
    "\t\tnn.BatchNorm2d(out_channels),\n",
    "\t\tnn.ReLU()\n",
    "\t)\n",
    "\n",
    "class ResBlock(nn.Module):\n",
    "\tdef __init__(self, in_channels, out_channels, skip = False):\n",
    "\t\tsuper().__init__()\n",
    "\t\tself.skip = nn.Sequential()\n",
    "\t\tself.conv1 = relu_bn_conv(in_channels, out_channels, kernel_size = 3, padding = 1)\n",
    "\n",
    "\t\tif skip:\n",
    "\t\t\tself.conv1 = relu_bn_conv(in_channels, out_channels, kernel_size = 3, stride = 2, padding = 1)\n",
    "\t\t\tself.skip = nn.Conv2d(in_channels, out_channels, kernel_size= 1, stride = 2)\n",
    "\n",
    "\t\tself.conv2 = relu_bn_conv(out_channels, out_channels, kernel_size = 3, padding = 1)\n",
    "\n",
    "\tdef forward(self, x):\n",
    "\t\tskip = self.skip(x)\n",
    "\t\tx = self.conv1(x)\n",
    "\t\tx = self.conv2(x)\n",
    "\t\tx = x + skip\n",
    "\t\treturn nn.ReLU()(x)"
   ]
  },
  {
   "cell_type": "code",
   "execution_count": 141,
   "metadata": {},
   "outputs": [],
   "source": [
    "class ScaledResNet(nn.Module):\n",
    "\tdef __init__(self, base_filter = 8):\n",
    "\t\tsuper().__init__()\n",
    "\n",
    "\t\tin_channels = 1\n",
    "\t\t\n",
    "\t\tself.l0 = nn.Sequential(\n",
    "\t\t\tnn.Conv2d(in_channels, base_filter, kernel_size = 7, stride = 2, padding = 3),\n",
    "\t\t\tnn.MaxPool2d(kernel_size = 3, stride = 2, padding = 1),\n",
    "\t\t\tnn.BatchNorm2d(base_filter),\n",
    "\t\t\tnn.ReLU()\n",
    "\t\t)\n",
    "\t\tself.l1 = nn.Sequential(\n",
    "\t\t\tResBlock(base_filter, base_filter, skip = False),\n",
    "\t\t\tResBlock(base_filter, base_filter, skip = False),\n",
    "\t\t)\n",
    "\t\tself.l2 = nn.Sequential(\n",
    "\t\t\tResBlock(base_filter, base_filter * 2, skip = True),\n",
    "\t\t\tResBlock(base_filter * 2, base_filter * 2, skip = False),\n",
    "\t\t)\n",
    "\t\tself.l3 = nn.Sequential(\n",
    "\t\t\tResBlock(base_filter * 2, base_filter * 3, skip = True),\n",
    "\t\t\tResBlock(base_filter * 3, base_filter * 3, skip = False),\n",
    "\t\t)\n",
    "\t\tself.l4 = nn.Sequential(\n",
    "\t\t\tResBlock(base_filter * 3, base_filter * 4, skip = True),\n",
    "\t\t\tResBlock(base_filter * 4, base_filter * 4, skip = False),\n",
    "\t\t)\n",
    "\t\tself.gap = torch.nn.AdaptiveAvgPool2d(1)\n",
    "\t\tself.fc = nn.Sequential(\n",
    "\t\t\tnn.Flatten(start_dim=1),\n",
    "\t\t\ttorch.nn.Linear(base_filter * 4, 10)\n",
    "\t\t)\n",
    "\n",
    "\tdef forward(self, x):\n",
    "\t\tx = self.l0(x)\n",
    "\t\tx = self.l1(x)\n",
    "\t\tx = self.l2(x)\n",
    "\t\tx = self.l3(x)\n",
    "\t\tx = self.l4(x)\n",
    "\t\tx = self.gap(x)\n",
    "\t\tx = self.fc(x)\n",
    "\n",
    "\t\treturn x"
   ]
  },
  {
   "cell_type": "code",
   "execution_count": 142,
   "metadata": {},
   "outputs": [
    {
     "name": "stdout",
     "output_type": "stream",
     "text": [
      "Epoch: 1 | Train Loss: 2.73529 \tVal Loss: 1.74653 \tTrain Acc: 0.735 \tVal Acc: 0.821\n",
      "Epoch: 2 | Train Loss: 1.60066 \tVal Loss: 1.49509 \tTrain Acc: 0.838 \tVal Acc: 0.846\n",
      "Epoch: 3 | Train Loss: 1.40591 \tVal Loss: 1.39335 \tTrain Acc: 0.858 \tVal Acc: 0.859\n",
      "Epoch: 4 | Train Loss: 1.26921 \tVal Loss: 1.25520 \tTrain Acc: 0.870 \tVal Acc: 0.870\n",
      "Epoch: 5 | Train Loss: 1.20025 \tVal Loss: 1.25185 \tTrain Acc: 0.877 \tVal Acc: 0.870\n"
     ]
    },
    {
     "ename": "KeyboardInterrupt",
     "evalue": "",
     "output_type": "error",
     "traceback": [
      "\u001b[1;31m---------------------------------------------------------------------------\u001b[0m",
      "\u001b[1;31mKeyboardInterrupt\u001b[0m                         Traceback (most recent call last)",
      "Cell \u001b[1;32mIn [142], line 1\u001b[0m\n\u001b[1;32m----> 1\u001b[0m trainer\u001b[39m.\u001b[39;49mtrain_model(\n\u001b[0;32m      2\u001b[0m \t\u001b[39m'\u001b[39;49m\u001b[39mScaledResNet\u001b[39;49m\u001b[39m'\u001b[39;49m, ScaledResNet, \u001b[39m# model\u001b[39;49;00m\n\u001b[0;32m      3\u001b[0m \toptim\u001b[39m.\u001b[39;49mAdam, {\u001b[39m'\u001b[39;49m\u001b[39mlr\u001b[39;49m\u001b[39m'\u001b[39;49m: \u001b[39m1e-3\u001b[39;49m, \u001b[39m'\u001b[39;49m\u001b[39mweight_decay\u001b[39;49m\u001b[39m'\u001b[39;49m: \u001b[39m1e-5\u001b[39;49m}, \u001b[39m# optimizer\u001b[39;49;00m\n\u001b[0;32m      4\u001b[0m \ttrain_data, \u001b[39m# data\u001b[39;49;00m\n\u001b[0;32m      5\u001b[0m \tearly_stopping \u001b[39m=\u001b[39;49m CustomEarlyStopping(patience \u001b[39m=\u001b[39;49m \u001b[39m10\u001b[39;49m),\n\u001b[0;32m      6\u001b[0m \tverbose\u001b[39m=\u001b[39;49m\u001b[39mTrue\u001b[39;49;00m\n\u001b[0;32m      7\u001b[0m )\n\u001b[0;32m      8\u001b[0m trainer\u001b[39m.\u001b[39marchive(\u001b[39m'\u001b[39m\u001b[39mScaledResNet\u001b[39m\u001b[39m'\u001b[39m)\n\u001b[0;32m      9\u001b[0m display(trainer\u001b[39m.\u001b[39mhistory)\n",
      "Cell \u001b[1;32mIn [55], line 57\u001b[0m, in \u001b[0;36mTrainer.train_model\u001b[1;34m(self, name, model_pass, optimizer_pass, optimizer_args, train_data, scheduler_pass, scheduler_args, batch_size, early_stopping, epochs, verbose)\u001b[0m\n\u001b[0;32m     55\u001b[0m loss \u001b[39m=\u001b[39m criterion(outputs, labels)\n\u001b[0;32m     56\u001b[0m \u001b[39m# backward pass: compute gradient of the loss with respect to model parameters\u001b[39;00m\n\u001b[1;32m---> 57\u001b[0m loss\u001b[39m.\u001b[39;49mbackward()\n\u001b[0;32m     58\u001b[0m \u001b[39m# perform a single optimization step (parameter update)\u001b[39;00m\n\u001b[0;32m     59\u001b[0m optimizer\u001b[39m.\u001b[39mstep()\n",
      "File \u001b[1;32mc:\\Users\\kenne\\anaconda3\\envs\\pytorch\\lib\\site-packages\\torch\\_tensor.py:396\u001b[0m, in \u001b[0;36mTensor.backward\u001b[1;34m(self, gradient, retain_graph, create_graph, inputs)\u001b[0m\n\u001b[0;32m    387\u001b[0m \u001b[39mif\u001b[39;00m has_torch_function_unary(\u001b[39mself\u001b[39m):\n\u001b[0;32m    388\u001b[0m     \u001b[39mreturn\u001b[39;00m handle_torch_function(\n\u001b[0;32m    389\u001b[0m         Tensor\u001b[39m.\u001b[39mbackward,\n\u001b[0;32m    390\u001b[0m         (\u001b[39mself\u001b[39m,),\n\u001b[1;32m   (...)\u001b[0m\n\u001b[0;32m    394\u001b[0m         create_graph\u001b[39m=\u001b[39mcreate_graph,\n\u001b[0;32m    395\u001b[0m         inputs\u001b[39m=\u001b[39minputs)\n\u001b[1;32m--> 396\u001b[0m torch\u001b[39m.\u001b[39;49mautograd\u001b[39m.\u001b[39;49mbackward(\u001b[39mself\u001b[39;49m, gradient, retain_graph, create_graph, inputs\u001b[39m=\u001b[39;49minputs)\n",
      "File \u001b[1;32mc:\\Users\\kenne\\anaconda3\\envs\\pytorch\\lib\\site-packages\\torch\\autograd\\__init__.py:173\u001b[0m, in \u001b[0;36mbackward\u001b[1;34m(tensors, grad_tensors, retain_graph, create_graph, grad_variables, inputs)\u001b[0m\n\u001b[0;32m    168\u001b[0m     retain_graph \u001b[39m=\u001b[39m create_graph\n\u001b[0;32m    170\u001b[0m \u001b[39m# The reason we repeat same the comment below is that\u001b[39;00m\n\u001b[0;32m    171\u001b[0m \u001b[39m# some Python versions print out the first line of a multi-line function\u001b[39;00m\n\u001b[0;32m    172\u001b[0m \u001b[39m# calls in the traceback and some print out the last line\u001b[39;00m\n\u001b[1;32m--> 173\u001b[0m Variable\u001b[39m.\u001b[39;49m_execution_engine\u001b[39m.\u001b[39;49mrun_backward(  \u001b[39m# Calls into the C++ engine to run the backward pass\u001b[39;49;00m\n\u001b[0;32m    174\u001b[0m     tensors, grad_tensors_, retain_graph, create_graph, inputs,\n\u001b[0;32m    175\u001b[0m     allow_unreachable\u001b[39m=\u001b[39;49m\u001b[39mTrue\u001b[39;49;00m, accumulate_grad\u001b[39m=\u001b[39;49m\u001b[39mTrue\u001b[39;49;00m)\n",
      "\u001b[1;31mKeyboardInterrupt\u001b[0m: "
     ]
    }
   ],
   "source": [
    "trainer.train_model(\n",
    "\t'ScaledResNet', ScaledResNet, # model\n",
    "\toptim.Adam, {'lr': 1e-3, 'weight_decay': 1e-5}, # optimizer\n",
    "\ttrain_data, # data\n",
    "\tearly_stopping = CustomEarlyStopping(patience = 10),\n",
    "\tverbose=True\n",
    ")\n",
    "trainer.archive('ScaledResNet')\n",
    "display(trainer.history)"
   ]
  },
  {
   "cell_type": "markdown",
   "metadata": {},
   "source": [
    "#### Augmentation + ResNet"
   ]
  },
  {
   "cell_type": "markdown",
   "metadata": {},
   "source": [
    "\n",
    "#### VGG\n"
   ]
  },
  {
   "cell_type": "markdown",
   "metadata": {},
   "source": [
    "\n",
    "#### Augmentation + VGG\n"
   ]
  },
  {
   "cell_type": "markdown",
   "metadata": {},
   "source": [
    "\n",
    "#### Inception V3\n"
   ]
  },
  {
   "cell_type": "markdown",
   "metadata": {},
   "source": [
    "\n",
    "#### Augmentation + Inception V3\n"
   ]
  },
  {
   "cell_type": "markdown",
   "metadata": {},
   "source": [
    "\n",
    "#### CoAtNet\n"
   ]
  },
  {
   "cell_type": "markdown",
   "metadata": {},
   "source": [
    "\n",
    "#### Augmentation + CoAtNet"
   ]
  },
  {
   "cell_type": "markdown",
   "metadata": {},
   "source": [
    "## Model Improvement\n",
    "\n",
    "### Augmentation Techniques\n",
    "\n",
    "#### FMix\n",
    "\n",
    "### Optimizer\n",
    "#### Learning Rate Tuning + Learning Rate Scheduling (https://www.kaggle.com/code/isbhargav/guide-to-pytorch-learning-rate-scheduling) for all the different schedulers\n",
    "#### AdamW\n",
    "#### Regularization\n",
    "\n",
    "### Architecture Change\n",
    "#### BatchNorm -> Layer Norm\n",
    "#### Dropout to MLP block"
   ]
  },
  {
   "cell_type": "markdown",
   "metadata": {},
   "source": [
    "## Model Analysis\n",
    "\n",
    "### Performance on Test Dataset\n",
    "#### Class-wise accuracy + distribution of errors\n",
    "#### 10 images with the largest error\n",
    "\n",
    "### Conclusion\n",
    "\n",
    "Author: Kenneth Chen"
   ]
  }
 ],
 "metadata": {
  "kernelspec": {
   "display_name": "Python 3.10.6 ('pytorch')",
   "language": "python",
   "name": "python3"
  },
  "language_info": {
   "codemirror_mode": {
    "name": "ipython",
    "version": 3
   },
   "file_extension": ".py",
   "mimetype": "text/x-python",
   "name": "python",
   "nbconvert_exporter": "python",
   "pygments_lexer": "ipython3",
   "version": "3.10.6"
  },
  "orig_nbformat": 4,
  "vscode": {
   "interpreter": {
    "hash": "4d19efe0496419facc97fd7ea20d5d3a0b9c1bdc9473c8f87e1305d92cacb204"
   }
  }
 },
 "nbformat": 4,
 "nbformat_minor": 2
}
