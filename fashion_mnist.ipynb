{
 "cells": [
  {
   "cell_type": "markdown",
   "metadata": {},
   "source": [
    "### References"
   ]
  },
  {
   "cell_type": "markdown",
   "metadata": {},
   "source": [
    "## Fashion-MNIST Classification\n",
    "\n",
    "> Can we develop a model that has good performance on the Fashion-MNIST dataset?\n",
    "\n",
    "### Context\n",
    "Fashion-MNIST is a dataset from Zalando research, comprising of <code>28 x 28</code> grayscale images of a total fo <code>70000</code> fashion products from 10 categories. The intent of this dataset is to serve as a replacement for the MNIST dataset for testing and benchmarking machine learning and deep learning models (Xiao, Rasul and Vollgraf, 2017).\n",
    "\n",
    "The dataset is based on images from Zalando's assortment. Each original image of <code>762 x 1000</code> in JPEG format was converted to PNG, resized, and then converted to grayscale.\n",
    "\n",
    "### Objectives\n",
    "<ol>\n",
    "\t<li>To explore and understand the dataset</li>\n",
    "\t<li>Understand the effects of different data augmentation techniques on the performance of the model</li>\n",
    "\t<li>Develop and experiment with models to rival state-of-the-art (SOTA) benchmark scores</li>\n",
    "</ol>\n",
    "\n",
    "## Importing libraries\n",
    "We import the necessary libraries for the notebook to run below."
   ]
  },
  {
   "cell_type": "code",
   "execution_count": 73,
   "metadata": {},
   "outputs": [],
   "source": [
    "import pandas as pd\n",
    "import numpy as np\n",
    "import cv2\n",
    "import matplotlib.pyplot as plt\n",
    "import copy\n",
    "from sklearn.model_selection import train_test_split\n",
    "import seaborn as sns\n",
    "sns.set('notebook')\n",
    "from PIL import Image"
   ]
  },
  {
   "cell_type": "markdown",
   "metadata": {},
   "source": [
    "## Helper Functions\n",
    "Below we define some utility and helper functions that will ease and help us with our analysis."
   ]
  },
  {
   "cell_type": "code",
   "execution_count": 33,
   "metadata": {},
   "outputs": [],
   "source": [
    "def loc_data(data, loc):\n",
    "\tdatacopy = copy.deepcopy(data)\n",
    "\tarr = np.array(datacopy.loc[loc].drop('label'))\n",
    "\tlabel = datacopy.loc[loc]['label']\n",
    "\troot = int(len(arr) ** 0.5)\n",
    "\tarr.resize((root, root))\n",
    "\treturn label, arr"
   ]
  },
  {
   "cell_type": "markdown",
   "metadata": {},
   "source": [
    "## Dataset\n",
    "Let's take a look at the dataset. This dataset was retrieved from the original Fashion MNIST dataset found at <a href=\"https://arxiv.org/pdf/1708.07747v2.pdf\">Paper Link</a>. \n",
    "\n",
    "<table>\n",
    "\t<tr>\n",
    "\t\t<th>\n",
    "\t\t\tColumn Name\n",
    "\t\t</th>\n",
    "\t\t<th>\n",
    "\t\t\tDescription\n",
    "\t\t</th>\n",
    "\t</tr>\n",
    "\t<tr>\n",
    "\t\t<td>\n",
    "\t\t\tlabel\n",
    "\t\t</td>\n",
    "\t\t<td>\n",
    "\t\t\tThe true class of the image, represented as an integer ranging from 0 to 9<strong>*</strong>\n",
    "\t\t</td>\n",
    "\t</tr>\n",
    "\t<tr>\n",
    "\t\t<td>\n",
    "\t\t\tpixel 1<br/>...<br/>pixel 784\n",
    "\t\t</td>\n",
    "\t\t<td>\n",
    "\t\t\tPixels representing the image, each pixel ranging from 0 to 255\n",
    "\t\t</td>\n",
    "\t</tr>\n",
    "</table>\n",
    "\n",
    "<strong>\\*</strong>Each number represents a certain dress item\n",
    "```\n",
    "0 -> T-shirt/top\n",
    "1 -> Trouser\n",
    "2 -> Pullover\n",
    "3 -> Dress\n",
    "4 -> Coat\n",
    "5 -> Sandal\n",
    "6 -> Shirt\n",
    "7 -> Sneaker\n",
    "8 -> Bag\n",
    "9 -> Ankle boot\n",
    "```"
   ]
  },
  {
   "cell_type": "markdown",
   "metadata": {},
   "source": [
    "Let's take a look at the training dataset"
   ]
  },
  {
   "cell_type": "code",
   "execution_count": 13,
   "metadata": {},
   "outputs": [
    {
     "data": {
      "text/plain": [
       "(60000, 785)"
      ]
     },
     "execution_count": 13,
     "metadata": {},
     "output_type": "execute_result"
    }
   ],
   "source": [
    "train = pd.read_csv('data/fashion-mnist_train.csv')\n",
    "train.shape"
   ]
  },
  {
   "cell_type": "markdown",
   "metadata": {},
   "source": [
    "We observe that there are a total of <code>60000</code> rows and <code>785</code> columns, which is exactly what the original paper mentioned."
   ]
  },
  {
   "cell_type": "markdown",
   "metadata": {},
   "source": [
    "### Testing for missing values and invalid data\n",
    "Let's try to identify if there are any missing values"
   ]
  },
  {
   "cell_type": "code",
   "execution_count": 19,
   "metadata": {},
   "outputs": [
    {
     "data": {
      "text/plain": [
       "0"
      ]
     },
     "execution_count": 19,
     "metadata": {},
     "output_type": "execute_result"
    }
   ],
   "source": [
    "train.isnull().sum().sum()"
   ]
  },
  {
   "cell_type": "markdown",
   "metadata": {},
   "source": [
    "It appears <strong>no missing values are found</strong>. We will then check for any potential typos.\n",
    "<ol>\n",
    "\t<li>Firstly, the label should only consist of values from 0 - 9</li>\n",
    "\t<li>Secondly, the pixel values should only fall in between and inclusive of 0 - 255</li>\n",
    "</ol>"
   ]
  },
  {
   "cell_type": "code",
   "execution_count": 27,
   "metadata": {},
   "outputs": [
    {
     "name": "stdout",
     "output_type": "stream",
     "text": [
      "Minimum and Maximum values of labels: 0 9\n",
      "Number of values falling outside the range (0 - 255): 0\n"
     ]
    }
   ],
   "source": [
    "print('Minimum and Maximum values of labels:', train['label'].min(), train['label'].max())\n",
    "print(\"Number of values falling outside the range (0 - 255):\",\n",
    "\ttrain.applymap(\n",
    "\t\tlambda x: x < 0 or x > 255 # True if out of range\n",
    "\t).sum().sum()\n",
    ")"
   ]
  },
  {
   "cell_type": "markdown",
   "metadata": {},
   "source": [
    "We observe that the dataset seems to be properly cleaned, thus can proceed knowing that <strong>no sign of invalid or missing data have been found.</strong>"
   ]
  },
  {
   "cell_type": "markdown",
   "metadata": {},
   "source": [
    "## Exploratory Data Analysis\n",
    "Before we begin the EDA, we first need to remove a chunk of the training data to be used as validation dataset in order to avoid data leakage due to the decisions we make during EDA.\n",
    "\n",
    "### Validation Dataset\n",
    "Let's make our validation dataset. I decided that I will <strong>not be using cross validation during the modelling process</strong> due to:\n",
    "<ul>\n",
    "\t<li>Time taken to train models, especially if utilising expensive layers, activation functions or architecture</li>\n",
    "\t<li>Additionally due to the sheer size of the dataset, not only does this add to increased training time but also means there is enough data such that cross validation is not necessary</li>\n",
    "</ul>\n",
    "\n",
    "We'll use a validation size of <code>10000</code> to mimic the size of the test dataset"
   ]
  },
  {
   "cell_type": "code",
   "execution_count": 45,
   "metadata": {},
   "outputs": [
    {
     "name": "stdout",
     "output_type": "stream",
     "text": [
      "X_train shape: (50000, 784)\n",
      "X_val shape: (10000, 784)\n",
      "y_train shape: (50000,)\n",
      "y_val shape: (10000,)\n"
     ]
    }
   ],
   "source": [
    "X_train, X_val, y_train, y_val = train_test_split(train.drop('label', axis=1), train['label'], test_size = 10000 / len(train), stratify=train['label'])\n",
    "print(\"X_train shape:\", X_train.shape)\n",
    "print(\"X_val shape:\", X_val.shape)\n",
    "print(\"y_train shape:\", y_train.shape)\n",
    "print(\"y_val shape:\", y_val.shape)"
   ]
  },
  {
   "cell_type": "markdown",
   "metadata": {},
   "source": [
    "Now we can begin our EDA!\n",
    "\n",
    "### Class Imbalance\n",
    "We'll first identify the situation with class imbalance"
   ]
  },
  {
   "cell_type": "code",
   "execution_count": 74,
   "metadata": {},
   "outputs": [
    {
     "data": {
      "text/plain": [
       "<AxesSubplot: xlabel='label', ylabel='Count'>"
      ]
     },
     "execution_count": 74,
     "metadata": {},
     "output_type": "execute_result"
    },
    {
     "data": {
      "image/png": "[encoded data removed]",
      "text/plain": [
       "<Figure size 640x480 with 1 Axes>"
      ]
     },
     "metadata": {},
     "output_type": "display_data"
    }
   ],
   "source": [
    "sns.histplot(y_train)"
   ]
  }
 ],
 "metadata": {
  "kernelspec": {
   "display_name": "Python 3.10.6 ('pytorch')",
   "language": "python",
   "name": "python3"
  },
  "language_info": {
   "codemirror_mode": {
    "name": "ipython",
    "version": 3
   },
   "file_extension": ".py",
   "mimetype": "text/x-python",
   "name": "python",
   "nbconvert_exporter": "python",
   "pygments_lexer": "ipython3",
   "version": "3.10.6"
  },
  "orig_nbformat": 4,
  "vscode": {
   "interpreter": {
    "hash": "4d19efe0496419facc97fd7ea20d5d3a0b9c1bdc9473c8f87e1305d92cacb204"
   }
  }
 },
 "nbformat": 4,
 "nbformat_minor": 2
}
